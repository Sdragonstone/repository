{
 "cells": [
  {
   "cell_type": "code",
   "execution_count": 18,
   "id": "5c1529df",
   "metadata": {},
   "outputs": [],
   "source": [
    "import json\n",
    "from kiwipiepy import Kiwi\n",
    "kiwi = Kiwi()"
   ]
  },
  {
   "cell_type": "code",
   "execution_count": 26,
   "id": "5b4e8be7",
   "metadata": {},
   "outputs": [],
   "source": [
    "#!pip install kiwipiepy\n",
    "MY_WORDS = [(\"속건조\", \"NNG\")]\n",
    "for w, t in MY_WORDS:\n",
    "    kiwi.add_user_word(w, t)\n"
   ]
  },
  {
   "cell_type": "code",
   "execution_count": 28,
   "id": "c1eb05d7",
   "metadata": {},
   "outputs": [],
   "source": [
    "reviews = []\n",
    "TARGET_POSES = {\"NNG\", \"NNP\", \"NP\",\"VV\", \"VA\"}\n",
    "with open(\"oliveyoung_ranking_reviews_5000.jsonl\", \"r\", encoding=\"UTF-8\") as input_file:\n",
    "    for line in input_file:\n",
    "        review = json.loads(line)\n",
    "        review.update({\n",
    "            \"review_morphs\" : [tuple(t)[:2] for t in kiwi.tokenize(review[\"reviews\"]) if tuple(t)[1] in TARGET_POSES]})\n",
    "        reviews.append(review)"
   ]
  },
  {
   "cell_type": "code",
   "execution_count": 29,
   "id": "547c0b8d",
   "metadata": {},
   "outputs": [
    {
     "data": {
      "text/plain": [
       "{'names': 'sysy11',\n",
       " 'rates': 5,\n",
       " 'dates': '2023.11.21',\n",
       " 'stores': '매장',\n",
       " 'options': '',\n",
       " 'skintypes': {},\n",
       " 'reviews': '할인하면 쟁여놓는 아이템이에요이거쓰고나서부터 속건조가 사라졌어요',\n",
       " 'likes': 0,\n",
       " 'prod_name': '에스트라 아토베리어365 크림 80ml 기획 (+하이드로에센스 25ml+무기자차선크림10ml 증정)',\n",
       " 'ranking_type': '랭킹',\n",
       " 'category': '판매랭킹리스트_전체',\n",
       " 'ranking': '1',\n",
       " 'prod_id': 'A000000184128',\n",
       " 'review_morphs': [('할인', 'NNG'),\n",
       "  ('쟁이', 'VV'),\n",
       "  ('아이템', 'NNG'),\n",
       "  ('쓰', 'VV'),\n",
       "  ('속건조', 'NNG'),\n",
       "  ('사라지', 'VV')]}"
      ]
     },
     "execution_count": 29,
     "metadata": {},
     "output_type": "execute_result"
    }
   ],
   "source": [
    "reviews[2]"
   ]
  },
  {
   "cell_type": "code",
   "execution_count": 19,
   "id": "13cf19ea",
   "metadata": {},
   "outputs": [
    {
     "ename": "NameError",
     "evalue": "name 'text' is not defined",
     "output_type": "error",
     "traceback": [
      "\u001b[1;31m---------------------------------------------------------------------------\u001b[0m",
      "\u001b[1;31mNameError\u001b[0m                                 Traceback (most recent call last)",
      "Cell \u001b[1;32mIn[19], line 3\u001b[0m\n\u001b[0;32m      1\u001b[0m \u001b[38;5;66;03m# okt/트위터분석기, komoran/코모란 kkma/꼬꼬마\u001b[39;00m\n\u001b[1;32m----> 3\u001b[0m kiwi\u001b[38;5;241m.\u001b[39mtokenize(text)\n",
      "\u001b[1;31mNameError\u001b[0m: name 'text' is not defined"
     ]
    }
   ],
   "source": [
    "# okt/트위터분석기, komoran/코모란 kkma/꼬꼬마\n",
    "\n"
   ]
  },
  {
   "cell_type": "code",
   "execution_count": null,
   "id": "83384428",
   "metadata": {},
   "outputs": [],
   "source": [
    "\n"
   ]
  }
 ],
 "metadata": {
  "kernelspec": {
   "display_name": "Python 3 (ipykernel)",
   "language": "python",
   "name": "python3"
  },
  "language_info": {
   "codemirror_mode": {
    "name": "ipython",
    "version": 3
   },
   "file_extension": ".py",
   "mimetype": "text/x-python",
   "name": "python",
   "nbconvert_exporter": "python",
   "pygments_lexer": "ipython3",
   "version": "3.11.4"
  }
 },
 "nbformat": 4,
 "nbformat_minor": 5
}
