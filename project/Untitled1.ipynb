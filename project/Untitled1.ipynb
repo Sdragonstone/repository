{
 "cells": [
  {
   "cell_type": "code",
   "execution_count": 2,
   "id": "002da151",
   "metadata": {},
   "outputs": [],
   "source": [
    "import requests # http\n",
    "from bs4 import BeautifulSoup #파싱: 규칙에 맞게 형식을 적용한거\n",
    "import time #시간을 주는거\n",
    "\n"
   ]
  },
  {
   "cell_type": "code",
   "execution_count": 1,
   "id": "9e70e68d",
   "metadata": {},
   "outputs": [
    {
     "ename": "NameError",
     "evalue": "name 'CATEGORY' is not defined",
     "output_type": "error",
     "traceback": [
      "\u001b[1;31m---------------------------------------------------------------------------\u001b[0m",
      "\u001b[1;31mNameError\u001b[0m                                 Traceback (most recent call last)",
      "Cell \u001b[1;32mIn[1], line 3\u001b[0m\n\u001b[0;32m      1\u001b[0m URL_TMPL \u001b[38;5;241m=\u001b[39m \u001b[38;5;124m\"\u001b[39m\u001b[38;5;124mhttps://www.aladin.co.kr/shop/wbrowse.aspx?CID=[]\u001b[39m\u001b[38;5;124m\"\u001b[39m\n\u001b[1;32m----> 3\u001b[0m \u001b[38;5;28;01mfor\u001b[39;00m cname, cid \u001b[38;5;129;01min\u001b[39;00m CATEGORY\u001b[38;5;241m.\u001b[39mitems():\n\u001b[0;32m      4\u001b[0m     \u001b[38;5;28mprint\u001b[39m(\u001b[38;5;124m\"\u001b[39m\u001b[38;5;124m수집중인 카테고리: [\u001b[39m\u001b[38;5;132;01m{}\u001b[39;00m\u001b[38;5;124m]\u001b[39m\u001b[38;5;124m\"\u001b[39m\u001b[38;5;241m.\u001b[39mformat(cname))\n\u001b[0;32m      6\u001b[0m     req \u001b[38;5;241m=\u001b[39m requests\u001b[38;5;241m.\u001b[39mget(URL_TMPL\u001b[38;5;241m.\u001b[39mformat(cid))\n",
      "\u001b[1;31mNameError\u001b[0m: name 'CATEGORY' is not defined"
     ]
    }
   ],
   "source": [
    "URL_TMPL = \"https://www.aladin.co.kr/shop/wbrowse.aspx?CID=[]\"\n",
    "\n",
    "for cname, cid in CATEGORY.items():\n",
    "    print(\"수집중인 카테고리: [{}]\".format(cname))\n",
    "          \n",
    "    req = requests.get(URL_TMPL.format(cid))\n",
    "    html = req.text\n",
    "\n",
    "    soup = BeautifulSoup(html, \"lxml\")\n",
    "    #soup.select #다 선택, 결과도 여러개, 리스트로 나옴 리스트안에는 스프 객체\n",
    "    soup_a = soup.select_one(\"a.bo\") # 가장먼저 발견한 한개, 스프 객채로 나옴\n",
    "    title = soup_a.get_text(strip=True)\n",
    "    url = soup_a[\"href\"]\n",
    "\n",
    "    books_url=[]\n",
    "    for s in soup_a:\n",
    "        title = s.get_text(strip=True)\n",
    "        url = s[\"href\"]\n",
    "        books_url.append({\"title\": title, \"url\": url, \"cname\": cname})\n",
    "    \n",
    "    time.sleep(1)"
   ]
  },
  {
   "cell_type": "code",
   "execution_count": 17,
   "id": "94ccd6e9",
   "metadata": {},
   "outputs": [
    {
     "ename": "NameError",
     "evalue": "name 'books_url' is not defined",
     "output_type": "error",
     "traceback": [
      "\u001b[1;31m---------------------------------------------------------------------------\u001b[0m",
      "\u001b[1;31mNameError\u001b[0m                                 Traceback (most recent call last)",
      "Cell \u001b[1;32mIn[17], line 1\u001b[0m\n\u001b[1;32m----> 1\u001b[0m \u001b[38;5;28mlen\u001b[39m(books_url)\n",
      "\u001b[1;31mNameError\u001b[0m: name 'books_url' is not defined"
     ]
    }
   ],
   "source": [
    "len(books_url)"
   ]
  },
  {
   "cell_type": "code",
   "execution_count": 18,
   "id": "a05803cb",
   "metadata": {},
   "outputs": [
    {
     "ename": "NameError",
     "evalue": "name 'books_url' is not defined",
     "output_type": "error",
     "traceback": [
      "\u001b[1;31m---------------------------------------------------------------------------\u001b[0m",
      "\u001b[1;31mNameError\u001b[0m                                 Traceback (most recent call last)",
      "Cell \u001b[1;32mIn[18], line 1\u001b[0m\n\u001b[1;32m----> 1\u001b[0m books_url\n",
      "\u001b[1;31mNameError\u001b[0m: name 'books_url' is not defined"
     ]
    }
   ],
   "source": [
    "books_url # row오리엔티드 #모든데이터는 대부분 문자로 바꾸어 저장해야함"
   ]
  },
  {
   "cell_type": "code",
   "execution_count": 19,
   "id": "d474de84",
   "metadata": {},
   "outputs": [
    {
     "ename": "LookupError",
     "evalue": "unknown encoding: URF-8",
     "output_type": "error",
     "traceback": [
      "\u001b[1;31m---------------------------------------------------------------------------\u001b[0m",
      "\u001b[1;31mLookupError\u001b[0m                               Traceback (most recent call last)",
      "Cell \u001b[1;32mIn[19], line 4\u001b[0m\n\u001b[0;32m      1\u001b[0m \u001b[38;5;28;01mimport\u001b[39;00m \u001b[38;5;21;01mjson\u001b[39;00m \u001b[38;5;66;03m#딕셔너리를 문자로 문자를 딕셔너리로 바꿔주는 역할 즉, parsing해줌\u001b[39;00m\n\u001b[1;32m----> 4\u001b[0m \u001b[38;5;28;01mwith\u001b[39;00m \u001b[38;5;28mopen\u001b[39m(\u001b[38;5;124m\"\u001b[39m\u001b[38;5;124maladin_urls.jsonl\u001b[39m\u001b[38;5;124m\"\u001b[39m, \u001b[38;5;124m\"\u001b[39m\u001b[38;5;124mw\u001b[39m\u001b[38;5;124m\"\u001b[39m, encoding\u001b[38;5;241m=\u001b[39m\u001b[38;5;124m\"\u001b[39m\u001b[38;5;124mURF-8\u001b[39m\u001b[38;5;124m\"\u001b[39m) \u001b[38;5;28;01mas\u001b[39;00m out_put_file: \u001b[38;5;66;03m#w는 쓰다의 뜻 읽을려면 r, 인코딩은 한국어여서 해야함 jsonl 에 l은 띄어쓰기구분\u001b[39;00m\n\u001b[0;32m      5\u001b[0m     \u001b[38;5;28;01mfor\u001b[39;00m book \u001b[38;5;129;01min\u001b[39;00m books_url:\n\u001b[0;32m      6\u001b[0m         \u001b[38;5;28mprint\u001b[39m(json\u001b[38;5;241m.\u001b[39mdumps(book, ensure_ascii\u001b[38;5;241m=\u001b[39m\u001b[38;5;28;01mFalse\u001b[39;00m), file\u001b[38;5;241m=\u001b[39moutput_file)\n",
      "File \u001b[1;32m~\\anaconda3\\Lib\\site-packages\\IPython\\core\\interactiveshell.py:284\u001b[0m, in \u001b[0;36m_modified_open\u001b[1;34m(file, *args, **kwargs)\u001b[0m\n\u001b[0;32m    277\u001b[0m \u001b[38;5;28;01mif\u001b[39;00m file \u001b[38;5;129;01min\u001b[39;00m {\u001b[38;5;241m0\u001b[39m, \u001b[38;5;241m1\u001b[39m, \u001b[38;5;241m2\u001b[39m}:\n\u001b[0;32m    278\u001b[0m     \u001b[38;5;28;01mraise\u001b[39;00m \u001b[38;5;167;01mValueError\u001b[39;00m(\n\u001b[0;32m    279\u001b[0m         \u001b[38;5;124mf\u001b[39m\u001b[38;5;124m\"\u001b[39m\u001b[38;5;124mIPython won\u001b[39m\u001b[38;5;124m'\u001b[39m\u001b[38;5;124mt let you open fd=\u001b[39m\u001b[38;5;132;01m{\u001b[39;00mfile\u001b[38;5;132;01m}\u001b[39;00m\u001b[38;5;124m by default \u001b[39m\u001b[38;5;124m\"\u001b[39m\n\u001b[0;32m    280\u001b[0m         \u001b[38;5;124m\"\u001b[39m\u001b[38;5;124mas it is likely to crash IPython. If you know what you are doing, \u001b[39m\u001b[38;5;124m\"\u001b[39m\n\u001b[0;32m    281\u001b[0m         \u001b[38;5;124m\"\u001b[39m\u001b[38;5;124myou can use builtins\u001b[39m\u001b[38;5;124m'\u001b[39m\u001b[38;5;124m open.\u001b[39m\u001b[38;5;124m\"\u001b[39m\n\u001b[0;32m    282\u001b[0m     )\n\u001b[1;32m--> 284\u001b[0m \u001b[38;5;28;01mreturn\u001b[39;00m io_open(file, \u001b[38;5;241m*\u001b[39margs, \u001b[38;5;241m*\u001b[39m\u001b[38;5;241m*\u001b[39mkwargs)\n",
      "\u001b[1;31mLookupError\u001b[0m: unknown encoding: URF-8"
     ]
    }
   ],
   "source": [
    "import json #딕셔너리를 문자로 문자를 딕셔너리로 바꿔주는 역할 즉, parsing해줌\n",
    "\n",
    "\n",
    "with open(\"aladin_urls.jsonl\", \"w\", encoding=\"URF-8\") as output_file: #w는 쓰다의 뜻 읽을려면 r, 인코딩은 한국어여서 해야함 jsonl 에 l은 띄어쓰기구분\n",
    "    for book in books_url:\n",
    "        print(json.dumps(book, ensure_ascii=False), file=output_file) # 한국어나 일본어면 (book, ensure_ascii=False)로 해야함 "
   ]
  },
  {
   "cell_type": "code",
   "execution_count": 20,
   "id": "291250e4",
   "metadata": {},
   "outputs": [],
   "source": [
    "books_url_read = []"
   ]
  },
  {
   "cell_type": "code",
   "execution_count": null,
   "id": "7d1fcf32",
   "metadata": {},
   "outputs": [],
   "source": [
    "with open(\"aladin_urls.jsonl\", \"r\", encoding=\"URF-8\") as input_file: #w는 쓰다의 뜻 읽을려면 r, 인코딩은 한국어여서 해야함 jsonl 에 l은 띄어쓰기구분\n",
    "    for line in input_file:\n",
    "        books_url_read.append(json.loads(line)) # 한국어나 일본어면 (book, ensure_ascii=False)로 해야함 "
   ]
  },
  {
   "cell_type": "code",
   "execution_count": 14,
   "id": "c82b0373",
   "metadata": {},
   "outputs": [
    {
     "data": {
      "text/plain": [
       "[<option selected=\"\" value=\"55890\">건강/취미</option>,\n",
       " <option value=\"170\">경제경영</option>,\n",
       " <option value=\"2105\">고전</option>,\n",
       " <option value=\"987\">과학</option>,\n",
       " <option value=\"8257\">대학교재/전문서적</option>,\n",
       " <option value=\"2551\">만화</option>,\n",
       " <option value=\"4395\">달력/기타</option>,\n",
       " <option value=\"798\">사회과학</option>,\n",
       " <option value=\"1\">소설/시/희곡</option>,\n",
       " <option value=\"1383\">수험서/자격증</option>,\n",
       " <option value=\"1108\">어린이</option>,\n",
       " <option value=\"55889\">에세이</option>,\n",
       " <option value=\"1196\">여행</option>,\n",
       " <option value=\"74\">역사</option>,\n",
       " <option value=\"517\">예술/대중문화</option>,\n",
       " <option value=\"1230\">요리/살림</option>,\n",
       " <option value=\"1322\">외국어</option>,\n",
       " <option value=\"13789\">유아</option>,\n",
       " <option value=\"656\">인문학</option>,\n",
       " <option value=\"336\">자기계발</option>,\n",
       " <option value=\"112011\">장르소설</option>,\n",
       " <option value=\"2913\">잡지</option>,\n",
       " <option value=\"17195\">전집/중고전집</option>,\n",
       " <option value=\"1237\">종교/역학</option>,\n",
       " <option value=\"2030\">좋은부모</option>,\n",
       " <option value=\"1137\">청소년</option>,\n",
       " <option value=\"351\">컴퓨터/모바일</option>,\n",
       " <option value=\"50246\">초등학교참고서</option>,\n",
       " <option value=\"76000\">중학교참고서</option>,\n",
       " <option value=\"76001\">고등학교참고서</option>]"
      ]
     },
     "execution_count": 14,
     "metadata": {},
     "output_type": "execute_result"
    }
   ],
   "source": [
    "req = requests.get(\"https://www.aladin.co.kr/shop/wbrowse.aspx?CID=55890\")\n",
    "html = req.text\n",
    "\n",
    "soup = BeautifulSoup(html, \"lxml\")\n",
    "soup_category = soup.select(\"div.depth-select-wrap option\") #개발자 모드에서 꺽쇠랑 띄어쓰기 차이 꺽쇠: 바로 아래 가져오기 스페이스: 펼쳐서 ㅎ포합된거가져오기 \n",
    "CATEGORY = dict()\n",
    "for s in soup_category:\n",
    "    CATEGORY.update({s.get_text(strip=True) : s[\"value\"]})\n",
    "    "
   ]
  }
 ],
 "metadata": {
  "kernelspec": {
   "display_name": "Python 3 (ipykernel)",
   "language": "python",
   "name": "python3"
  },
  "language_info": {
   "codemirror_mode": {
    "name": "ipython",
    "version": 3
   },
   "file_extension": ".py",
   "mimetype": "text/x-python",
   "name": "python",
   "nbconvert_exporter": "python",
   "pygments_lexer": "ipython3",
   "version": "3.11.4"
  }
 },
 "nbformat": 4,
 "nbformat_minor": 5
}
