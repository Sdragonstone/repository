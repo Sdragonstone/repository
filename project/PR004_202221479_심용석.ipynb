{
 "cells": [
  {
   "cell_type": "markdown",
   "id": "de917f9b",
   "metadata": {},
   "source": [
    "## 과제 3-1"
   ]
  },
  {
   "cell_type": "code",
   "execution_count": 104,
   "id": "24a449b0",
   "metadata": {
    "scrolled": true
   },
   "outputs": [
    {
     "name": "stdout",
     "output_type": "stream",
     "text": [
      "[경영세트, 금융세트, 인문세트] 메뉴를 주문받았습니다.\n",
      "현재 대기인원은 1명입니다.\n",
      "[경영세트, 정보버거, 콜라, 사이다] 메뉴를 주문받았습니다.\n",
      "현재 대기인원은 2명입니다.\n",
      "--> 경영세트, 금융세트, 인문세트 메뉴가 나왔습니다.\n",
      "[이비즈크림] 메뉴를 주문받았습니다.\n",
      "현재 대기인원은 2명입니다.\n",
      "[금융버거, 미뎌세트, 이비즈크림] 메뉴를 주문받았습니다.\n",
      "현재 대기인원은 3명입니다.\n",
      "--> 경영세트, 정보버거, 콜라, 사이다 메뉴가 나왔습니다.\n"
     ]
    }
   ],
   "source": [
    "orders = []\n",
    "# 1번\n",
    "def take_order(*args):\n",
    "    \n",
    "    orders.append(args)\n",
    "    \n",
    "    print(\"[{}] 메뉴를 주문받았습니다.\".format(\", \". join(args)))\n",
    "    print(f\"현재 대기인원은 {len(orders)}명입니다.\")\n",
    "    \n",
    "\n",
    "\n",
    "#2번\n",
    "def serve_order():\n",
    "    clear = orders.pop(0)\n",
    "    print(\"--> {} 메뉴가 나왔습니다.\".format(\", \".join(clear)))\n",
    "    \n",
    "\n",
    "    \n",
    "\n",
    "take_order(\"경영세트\",\"금융세트\", \"인문세트\")\n",
    "take_order(\"경영세트\", \"정보버거\",\"콜라\",\"사이다\")\n",
    "\n",
    "serve_order()\n",
    "\n",
    "take_order(\"이비즈크림\")\n",
    "take_order(\"금융버거\",\"미뎌세트\",\"이비즈크림\")\n",
    "\n",
    "serve_order()"
   ]
  },
  {
   "cell_type": "markdown",
   "id": "2535ca37",
   "metadata": {},
   "source": [
    "## 과제 3-2"
   ]
  },
  {
   "cell_type": "code",
   "execution_count": 83,
   "id": "e4e78f59",
   "metadata": {},
   "outputs": [
    {
     "name": "stdout",
     "output_type": "stream",
     "text": [
      "{'author': '심용석', 'char_name': '잠꾸러기츄', 'char_memo': '에비츄가 침흘리면서 잠', 'char_birth': '2023-10-05'}\n"
     ]
    }
   ],
   "source": [
    "def input_form(author, char_name, char_memo, char_birth):\n",
    "    my_char = {'author': author, 'char_name': char_name, 'char_memo': char_memo, 'char_birth': char_birth}\n",
    "    return my_char\n",
    "\n",
    "\n",
    "my_char = input_form(author=\"심용석\", \n",
    "           char_name=\"잠꾸러기츄\", \n",
    "           char_memo=\"에비츄가 침흘리면서 잠\",\n",
    "           char_birth=\"2023-10-05\")\n",
    "\n",
    "print(my_char)"
   ]
  }
 ],
 "metadata": {
  "kernelspec": {
   "display_name": "Python 3 (ipykernel)",
   "language": "python",
   "name": "python3"
  },
  "language_info": {
   "codemirror_mode": {
    "name": "ipython",
    "version": 3
   },
   "file_extension": ".py",
   "mimetype": "text/x-python",
   "name": "python",
   "nbconvert_exporter": "python",
   "pygments_lexer": "ipython3",
   "version": "3.11.4"
  }
 },
 "nbformat": 4,
 "nbformat_minor": 5
}
