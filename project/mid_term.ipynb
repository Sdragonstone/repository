{
 "cells": [
  {
   "cell_type": "code",
   "execution_count": 156,
   "id": "290e9cef",
   "metadata": {},
   "outputs": [],
   "source": [
    "books = [{\"title\":\"원프맨\",\"issue\":2019,\"author\":\"김경영\",\"publisher\":\"BP출판사\"}, {\"title\":\"에비슈\",\"issue\":2019,\"author\":\"민디어\",\"publisher\":\"BP출판사\"}, {\"title\":\"랩실\",\"issue\":2018,\"author\":\"BizLee\",\"publisher\":\"asd\"}]\n",
    "\n"
   ]
  },
  {
   "cell_type": "code",
   "execution_count": 157,
   "id": "9ed83911",
   "metadata": {},
   "outputs": [
    {
     "name": "stdout",
     "output_type": "stream",
     "text": [
      "[{'title': '원프맨', 'issue': 2019, 'author': '김경영', 'publisher': 'BP출판사'}, {'title': '에비슈', 'issue': 2019, 'author': '민디어', 'publisher': 'BP출판사'}, {'title': '랩실', 'issue': 2018, 'author': 'BizLee', 'publisher': 'asd'}, {'title': '프맨', 'issue': 2019, 'author': '김경', 'publisher': 'BP출판'}]\n"
     ]
    }
   ],
   "source": [
    "books_new = [{\"title\":\"프맨\",\"issue\":2019,\"author\":\"김경\",\"publisher\":\"BP출판\"}]\n",
    "books.extend(books_new)\n",
    "\n",
    "print(books)"
   ]
  },
  {
   "cell_type": "code",
   "execution_count": 158,
   "id": "14c571a4",
   "metadata": {},
   "outputs": [
    {
     "data": {
      "text/plain": [
       "[{'title': '랩실', 'issue': 2018, 'author': 'BizLee', 'publisher': 'asd'},\n",
       " {'title': '프맨', 'issue': 2019, 'author': '김경', 'publisher': 'BP출판'}]"
      ]
     },
     "execution_count": 158,
     "metadata": {},
     "output_type": "execute_result"
    }
   ],
   "source": [
    "books[-2:]\n"
   ]
  },
  {
   "cell_type": "code",
   "execution_count": 165,
   "id": "c28932f6",
   "metadata": {},
   "outputs": [],
   "source": [
    "books[2].update({\"author\": \"Biz Lee\"})\n"
   ]
  },
  {
   "cell_type": "code",
   "execution_count": 186,
   "id": "0ab73e8f",
   "metadata": {},
   "outputs": [
    {
     "name": "stdout",
     "output_type": "stream",
     "text": [
      "주문번호 102 음식이 나왔습니다.\n"
     ]
    }
   ],
   "source": [
    "orders = [] # initialize 초기화\n",
    "orders.insert(0, [\"경영세트\", \"금융세트\", \"정보세트\", \"인문세트\", \"102\"])\n",
    "\n",
    "orders.insert(0, [\"경영버거\", \"정보버거\", \"콜라\", \"사이다\", \"103\"])\n",
    "orders.insert(0, [\"이비즈크림\", \"104\"])\n",
    "print(\"주문번호\",orders.pop()[-1] ,\"음식이 나왔습니다.\")\n",
    "\n"
   ]
  },
  {
   "cell_type": "code",
   "execution_count": 181,
   "id": "6f48aabc",
   "metadata": {},
   "outputs": [
    {
     "name": "stdout",
     "output_type": "stream",
     "text": [
      "현재 준비중인 주문은[경영버거, 정보버거, 콜라, 사이다]입니다.\n"
     ]
    }
   ],
   "source": [
    "print(\"현재 준비중인 주문은[{}]입니다.\".format(\", \".join(orders[1][:-1])))"
   ]
  },
  {
   "cell_type": "code",
   "execution_count": 189,
   "id": "9e3bafc9",
   "metadata": {},
   "outputs": [
    {
     "ename": "ValueError",
     "evalue": "list.remove(x): x not in list",
     "output_type": "error",
     "traceback": [
      "\u001b[1;31m---------------------------------------------------------------------------\u001b[0m",
      "\u001b[1;31mValueError\u001b[0m                                Traceback (most recent call last)",
      "Cell \u001b[1;32mIn[189], line 1\u001b[0m\n\u001b[1;32m----> 1\u001b[0m orders[\u001b[38;5;241m0\u001b[39m]\u001b[38;5;241m.\u001b[39mremove(\u001b[38;5;124m\"\u001b[39m\u001b[38;5;124m이비즈크림\u001b[39m\u001b[38;5;124m\"\u001b[39m)\n",
      "\u001b[1;31mValueError\u001b[0m: list.remove(x): x not in list"
     ]
    }
   ],
   "source": [
    "orders[0].remove(\"이비즈크림\")"
   ]
  },
  {
   "cell_type": "code",
   "execution_count": 191,
   "id": "89eec1aa",
   "metadata": {},
   "outputs": [],
   "source": [
    "#003\n",
    "\n",
    "urls = ['http://challengeURL.kr/1',\n",
    " 'http://challengeURL.kr/4',\n",
    " 'http://challengeURL.kr/7',\n",
    " 'http://challengeURL.kr/11',\n",
    " 'http://challengeURL.kr/24',\n",
    " 'http://challengeURL.kr/32',\n",
    " 'http://challengeURL.kr/42',\n",
    " 'http://challengeURL.kr/61',\n",
    " 'http://challengeURL.kr/80',\n",
    " 'http://challengeURL.kr/99',\n",
    " 'http://challengeURL.kr/119',\n",
    " 'http://challengeURL.kr/123',\n",
    " 'http://challengeURL.kr/168',\n",
    " 'http://challengeURL.kr/197',\n",
    " 'http://challengeURL.kr/210',\n",
    " 'http://challengeURL.kr/255',\n",
    " 'http://challengeURL.kr/289',\n",
    " 'http://challengeURL.kr/324',\n",
    " 'http://challengeURL.kr/359',\n",
    " 'http://challengeURL.kr/400',\n",
    " 'http://challengeURL.kr/441',\n",
    " 'http://challengeURL.kr/484',\n",
    " 'http://challengeURL.kr/521',\n",
    " 'http://challengeURL.kr/543',\n",
    " 'http://challengeURL.kr/625',\n",
    " 'http://challengeURL.kr/676',\n",
    " 'http://challengeURL.kr/728',\n",
    " 'http://challengeURL.kr/784',\n",
    " 'http://challengeURL.kr/842',\n",
    " 'http://challengeURL.kr/901',\n",
    " 'http://challengeURL.kr/969',\n",
    " 'http://challengeURL.kr/1001',\n",
    " 'http://challengeURL.kr/1089',\n",
    " 'http://challengeURL.kr/1156',\n",
    " 'http://challengeURL.kr/1225',\n",
    " 'http://challengeURL.kr/1246',\n",
    " 'http://challengeURL.kr/1369',\n",
    " 'http://challengeURL.kr/1444',\n",
    " 'http://challengeURL.kr/1521',\n",
    " 'http://challengeURL.kr/1608',\n",
    " 'http://challengeURL.kr/1681',\n",
    " 'http://challengeURL.kr/1764',\n",
    " 'http://challengeURL.kr/1849',\n",
    " 'http://challengeURL.kr/1936',\n",
    " 'http://challengeURL.kr/2025',\n",
    " 'http://challengeURL.kr/2116',\n",
    " 'http://challengeURL.kr/2209',\n",
    " 'http://challengeURL.kr/2304',\n",
    " 'http://challengeURL.kr/2401',\n",
    " 'http://challengeURL.kr/2500']"
   ]
  },
  {
   "cell_type": "code",
   "execution_count": 216,
   "id": "e9aa1f85",
   "metadata": {},
   "outputs": [
    {
     "name": "stdout",
     "output_type": "stream",
     "text": [
      "['1', '7', '11', '61', '99', '119', '123', '197', '255', '289', '359', '441', '521', '543', '625', '901', '969', '1001', '1089', '1225', '1369', '1521', '1681', '1849', '2025', '2209', '2401']\n"
     ]
    },
    {
     "ename": "NameError",
     "evalue": "name 'num' is not defined",
     "output_type": "error",
     "traceback": [
      "\u001b[1;31m---------------------------------------------------------------------------\u001b[0m",
      "\u001b[1;31mNameError\u001b[0m                                 Traceback (most recent call last)",
      "Cell \u001b[1;32mIn[216], line 8\u001b[0m\n\u001b[0;32m      5\u001b[0m         a\u001b[38;5;241m.\u001b[39mappend(b)\n\u001b[0;32m      6\u001b[0m \u001b[38;5;28mprint\u001b[39m(a)\n\u001b[1;32m----> 8\u001b[0m c \u001b[38;5;241m=\u001b[39m [ i \u001b[38;5;28;01mfor\u001b[39;00m i \u001b[38;5;129;01min\u001b[39;00m \u001b[38;5;28mlist\u001b[39m(\u001b[38;5;28mmap\u001b[39m(\u001b[38;5;28mint\u001b[39m, num)) \u001b[38;5;28;01mif\u001b[39;00m i \u001b[38;5;241m%\u001b[39m \u001b[38;5;241m2\u001b[39m \u001b[38;5;241m==\u001b[39m \u001b[38;5;241m1\u001b[39m]\n",
      "\u001b[1;31mNameError\u001b[0m: name 'num' is not defined"
     ]
    }
   ],
   "source": []
  },
  {
   "cell_type": "code",
   "execution_count": 220,
   "id": "d749e730",
   "metadata": {},
   "outputs": [],
   "source": [
    "lyrics = '''\n",
    "저 거위도 벽을 넘어 하늘을 날을 거라고\n",
    "달팽이도 넓고 거친 바다 끝에 꿈을 둔다고\n",
    "나도 꾸물꾸물 말고 꿈을 찾으래\n",
    "어서 남의 꿈을 빌려 꾸기라도 해\n",
    "\n",
    "내게 강요하지 말아요 이건 내 길이 아닌걸\n",
    "내밀지 말아요 너의 구겨진 꿈을\n",
    "\n",
    "난 차라리 흘러갈래\n",
    "모두 높은 곳을 우러러볼 때\n",
    "난 내 물결을 따라\n",
    "Flow flow along flow along my way\n",
    "\n",
    "난 차라리 꽉 눌러붙을래\n",
    "날 재촉한다면\n",
    "따뜻한 밥 위에 누워 자는\n",
    "계란 fry fry 같이 나른하게\n",
    "\n",
    "고래도 사랑을 찾아 파도를 가를 거라고\n",
    "하다못해 네모도 꿈을 꾸는데\n",
    "아무도 꿈이 없는 자에겐 기회를 주지 않아\n",
    "하긴 무슨 기회가 어울릴지도 모를 거야\n",
    "\n",
    "무시 말아 줘요 하고 싶은 게 없는걸\n",
    "왜 그렇게 봐 난 죄지은 게 아닌데\n",
    "\n",
    "난 차라리 흘러갈래\n",
    "모두 높은 곳을 우러러볼 때\n",
    "난 내 물결을 따라\n",
    "Flow flow along flow along my way\n",
    "\n",
    "난 차라리 꽉 눌러붙을래\n",
    "날 재촉한다면\n",
    "따뜻한 밥 위에 누워 자는\n",
    "계란 fry fry 같이\n",
    "\n",
    "Spread out\n",
    "틀에 갇힌 듯한 똑같은 꿈\n",
    "Spread out out\n",
    "난 이 두꺼운 껍질을 깨고 나와 퍼지고 싶어\n",
    "\n",
    "난 차라리 굴러갈래\n",
    "끝은 안 보여 뒤에선 등 떠미는데\n",
    "난 내 물결을 따라\n",
    "Flow flow along flow along my way\n",
    "\n",
    "난 차라리 꽉 눌러붙을래\n",
    "날 재촉한다면\n",
    "고민 하나 없이 퍼져 있는\n",
    "계란 fry fry 같이 나른하게\n",
    "'''"
   ]
  },
  {
   "cell_type": "code",
   "execution_count": null,
   "id": "cfc6c6b4",
   "metadata": {},
   "outputs": [],
   "source": []
  },
  {
   "cell_type": "code",
   "execution_count": 221,
   "id": "151cdd24",
   "metadata": {},
   "outputs": [],
   "source": [
    "lyrics=lyrics.split(\"\\n\")"
   ]
  },
  {
   "cell_type": "code",
   "execution_count": 225,
   "id": "cf84877d",
   "metadata": {},
   "outputs": [
    {
     "name": "stdout",
     "output_type": "stream",
     "text": [
      "0\n",
      "22\n",
      "23\n",
      "17\n",
      "18\n",
      "0\n",
      "23\n",
      "17\n",
      "0\n",
      "10\n",
      "15\n",
      "10\n",
      "33\n",
      "0\n",
      "13\n",
      "7\n",
      "14\n",
      "18\n",
      "0\n",
      "21\n",
      "15\n",
      "23\n",
      "21\n",
      "0\n",
      "20\n",
      "19\n",
      "0\n",
      "10\n",
      "15\n",
      "10\n",
      "33\n",
      "0\n",
      "13\n",
      "7\n",
      "14\n",
      "13\n",
      "0\n",
      "10\n",
      "14\n",
      "14\n",
      "24\n",
      "0\n",
      "10\n",
      "18\n",
      "10\n",
      "33\n",
      "0\n",
      "13\n",
      "7\n",
      "14\n",
      "18\n",
      "0\n"
     ]
    }
   ],
   "source": [
    "for i in lyrics:\n",
    "    print(len(i))"
   ]
  },
  {
   "cell_type": "code",
   "execution_count": 229,
   "id": "6e9acbcd",
   "metadata": {},
   "outputs": [
    {
     "name": "stdout",
     "output_type": "stream",
     "text": [
      "1:저 거위도 벽을 넘어 하늘을 날을 거라고\n",
      "2:달팽이도 넓고 거친 바다 끝에 꿈을 둔다고\n",
      "3:나도 꾸물꾸물 말고 꿈을 찾으래\n",
      "4:어서 남의 꿈을 빌려 꾸기라도 해\n",
      "6:내게 강요하지 말아요 이건 내 길이 아닌걸\n",
      "7:내밀지 말아요 너의 구겨진 꿈을\n",
      "9:난 차라리 흘러갈래\n",
      "10:모두 높은 곳을 우러러볼 때\n",
      "11:난 내 물결을 따라\n",
      "12:Flow flow along flow along my way\n",
      "14:난 차라리 꽉 눌러붙을래\n",
      "15:날 재촉한다면\n",
      "16:따뜻한 밥 위에 누워 자는\n",
      "17:계란 fry fry 같이 나른하게\n",
      "19:고래도 사랑을 찾아 파도를 가를 거라고\n",
      "20:하다못해 네모도 꿈을 꾸는데\n",
      "21:아무도 꿈이 없는 자에겐 기회를 주지 않아\n",
      "22:하긴 무슨 기회가 어울릴지도 모를 거야\n",
      "24:무시 말아 줘요 하고 싶은 게 없는걸\n",
      "25:왜 그렇게 봐 난 죄지은 게 아닌데\n",
      "27:난 차라리 흘러갈래\n",
      "28:모두 높은 곳을 우러러볼 때\n",
      "29:난 내 물결을 따라\n",
      "30:Flow flow along flow along my way\n",
      "32:난 차라리 꽉 눌러붙을래\n",
      "33:날 재촉한다면\n",
      "34:따뜻한 밥 위에 누워 자는\n",
      "35:계란 fry fry 같이\n",
      "37:Spread out\n",
      "38:틀에 갇힌 듯한 똑같은 꿈\n",
      "39:Spread out out\n",
      "40:난 이 두꺼운 껍질을 깨고 나와 퍼지고 싶어\n",
      "42:난 차라리 굴러갈래\n",
      "43:끝은 안 보여 뒤에선 등 떠미는데\n",
      "44:난 내 물결을 따라\n",
      "45:Flow flow along flow along my way\n",
      "47:난 차라리 꽉 눌러붙을래\n",
      "48:날 재촉한다면\n",
      "49:고민 하나 없이 퍼져 있는\n",
      "50:계란 fry fry 같이 나른하게\n"
     ]
    }
   ],
   "source": [
    "for num, i in enumerate(lyrics):\n",
    "    if len(i) > 0:\n",
    "        print(f\"{num}:{i}\")"
   ]
  },
  {
   "cell_type": "code",
   "execution_count": 236,
   "id": "6b17188f",
   "metadata": {},
   "outputs": [
    {
     "name": "stdout",
     "output_type": "stream",
     "text": [
      "('경영세트', '금융세트', '정보세트', '인문세트')메뉴를 주문받았습니다.\n",
      "현재 대기 인원은 1명 입니다.\n",
      "('경영세트', '정보버거', '콜라', '사이다')메뉴를 주문받았습니다.\n",
      "현재 대기 인원은 2명 입니다.\n"
     ]
    },
    {
     "ename": "IndexError",
     "evalue": "pop from empty list",
     "output_type": "error",
     "traceback": [
      "\u001b[1;31m---------------------------------------------------------------------------\u001b[0m",
      "\u001b[1;31mIndexError\u001b[0m                                Traceback (most recent call last)",
      "Cell \u001b[1;32mIn[236], line 14\u001b[0m\n\u001b[0;32m     12\u001b[0m take_order(\u001b[38;5;124m\"\u001b[39m\u001b[38;5;124m경영세트\u001b[39m\u001b[38;5;124m\"\u001b[39m, \u001b[38;5;124m\"\u001b[39m\u001b[38;5;124m금융세트\u001b[39m\u001b[38;5;124m\"\u001b[39m, \u001b[38;5;124m\"\u001b[39m\u001b[38;5;124m정보세트\u001b[39m\u001b[38;5;124m\"\u001b[39m, \u001b[38;5;124m\"\u001b[39m\u001b[38;5;124m인문세트\u001b[39m\u001b[38;5;124m\"\u001b[39m)\n\u001b[0;32m     13\u001b[0m take_order(\u001b[38;5;124m\"\u001b[39m\u001b[38;5;124m경영세트\u001b[39m\u001b[38;5;124m\"\u001b[39m, \u001b[38;5;124m\"\u001b[39m\u001b[38;5;124m정보버거\u001b[39m\u001b[38;5;124m\"\u001b[39m, \u001b[38;5;124m\"\u001b[39m\u001b[38;5;124m콜라\u001b[39m\u001b[38;5;124m\"\u001b[39m, \u001b[38;5;124m\"\u001b[39m\u001b[38;5;124m사이다\u001b[39m\u001b[38;5;124m\"\u001b[39m)\n\u001b[1;32m---> 14\u001b[0m serve_order()\n\u001b[0;32m     15\u001b[0m take_order(\u001b[38;5;124m\"\u001b[39m\u001b[38;5;124m이비즈크림\u001b[39m\u001b[38;5;124m\"\u001b[39m)\n\u001b[0;32m     16\u001b[0m take_order(\u001b[38;5;124m\"\u001b[39m\u001b[38;5;124m금융버거\u001b[39m\u001b[38;5;124m\"\u001b[39m, \u001b[38;5;124m\"\u001b[39m\u001b[38;5;124m미뎌세트\u001b[39m\u001b[38;5;124m\"\u001b[39m, \u001b[38;5;124m\"\u001b[39m\u001b[38;5;124m이비즈크림\u001b[39m\u001b[38;5;124m\"\u001b[39m)\n",
      "Cell \u001b[1;32mIn[236], line 6\u001b[0m, in \u001b[0;36mserve_order\u001b[1;34m()\u001b[0m\n\u001b[0;32m      5\u001b[0m \u001b[38;5;28;01mdef\u001b[39;00m \u001b[38;5;21mserve_order\u001b[39m(): \u001b[38;5;66;03m# orders 리스트의 데이터가 [[\"테스트1\", \"테스트2\"], [\"테스트return # (4) 여기서 return의 의미? return의 역할은?\u001b[39;00m\n\u001b[1;32m----> 6\u001b[0m     \u001b[38;5;28mprint\u001b[39m(\u001b[38;5;124mf\u001b[39m\u001b[38;5;124m'\u001b[39m\u001b[38;5;124m-> \u001b[39m\u001b[38;5;132;01m{\u001b[39;00morders\u001b[38;5;241m.\u001b[39mpop()\u001b[38;5;132;01m}\u001b[39;00m\u001b[38;5;124m메뉴가 나왔습니다.\u001b[39m\u001b[38;5;124m'\u001b[39m) \u001b[38;5;66;03m# (5) 여기서 orders.pop()의 결\u001b[39;00m\n\u001b[0;32m      7\u001b[0m     serve_order \u001b[38;5;241m=\u001b[39m orders\u001b[38;5;241m.\u001b[39mpop()\n",
      "\u001b[1;31mIndexError\u001b[0m: pop from empty list"
     ]
    }
   ],
   "source": [
    "def take_order(*order, orders=[]): # (1) orders=[]가 파라미터에 나와있을 때 생기\n",
    "    orders.insert(0, order) # (2) order의 자료형은?\n",
    "    print(f'{order}메뉴를 주문받았습니다.') # (3) 따옴표가 같이 나오는데 해결방법?␣(HINT, 과제1)\n",
    "    print(f'현재 대기 인원은 {len(orders)}명 입니다.')\n",
    "def serve_order(): # orders 리스트의 데이터가 [[\"테스트1\", \"테스트2\"], [\"테스트return # (4) 여기서 return의 의미? return의 역할은?\n",
    "    print(f'-> {orders.pop()}메뉴가 나왔습니다.') # (5) 여기서 orders.pop()의 결\n",
    "    serve_order = orders.pop() # (6) 여기서 orders.pop()의 결과(output)와 pop()\n",
    "\n",
    "\n",
    "# (7) global의 역할은?\n",
    "\n",
    "take_order(\"경영세트\", \"금융세트\", \"정보세트\", \"인문세트\")\n",
    "take_order(\"경영세트\", \"정보버거\", \"콜라\", \"사이다\")\n",
    "serve_order()\n",
    "take_order(\"이비즈크림\")\n",
    "take_order(\"금융버거\", \"미뎌세트\", \"이비즈크림\")\n"
   ]
  }
 ],
 "metadata": {
  "kernelspec": {
   "display_name": "Python 3 (ipykernel)",
   "language": "python",
   "name": "python3"
  },
  "language_info": {
   "codemirror_mode": {
    "name": "ipython",
    "version": 3
   },
   "file_extension": ".py",
   "mimetype": "text/x-python",
   "name": "python",
   "nbconvert_exporter": "python",
   "pygments_lexer": "ipython3",
   "version": "3.11.4"
  }
 },
 "nbformat": 4,
 "nbformat_minor": 5
}
