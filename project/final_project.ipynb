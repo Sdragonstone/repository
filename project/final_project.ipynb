{
 "cells": [
  {
   "cell_type": "code",
   "execution_count": 2,
   "id": "bf29320d",
   "metadata": {},
   "outputs": [],
   "source": [
    "import requests   # http/https 통신 \n",
    "from bs4 import BeautifulSoup  # parsing\n",
    "\n",
    "import time # delay\n",
    "\n",
    "# 순위크롤링, 상위 10등의 팀의 각 포지션별 선수가 몇명인지 크롤링후\n",
    "# 포지션depth와 순위의 상관관계분석\n"
   ]
  },
  {
   "cell_type": "code",
   "execution_count": 81,
   "id": "a3c4826b",
   "metadata": {
    "scrolled": true
   },
   "outputs": [],
   "source": [
    "USER_AGENT = \"Mozilla/5.0 (Windows NT 10.0; Win64; x64) AppleWebKit/537.36 (KHTML, like Gecko) Chrome/119.0.0.0 Safari/537.36\"\n",
    "HEADERS = {\"user-agent\": USER_AGENT}\n",
    "data_set = {}\n",
    "\n",
    "    # 원하는 년도를 크롤링할수있음\n",
    "def formation_EPL(yr, rank):    \n",
    "    ranks = []\n",
    "    links = []\n",
    "    formation = []\n",
    "\n",
    "    print(f\"현재 {yr}년도를 크롤링 중입니다...\") #크롤링진행 확인\n",
    "    req = requests.get(\"https://www.transfermarkt.com/premier-league/tabelle/wettbewerb/GB1?saison_id={}\".format(yr), headers=HEADERS)\n",
    "    html = req.text\n",
    "    soup = BeautifulSoup(html, 'lxml')\n",
    "    rankings = soup.select(\"td.no-border-links a\")\n",
    "    i = 1\n",
    "    j = 1\n",
    "\n",
    "    for s in rankings: #순위 추출\n",
    "        if s[\"href\"] != \"#\" and i <= 10: # \"#\"으로 나오는 문자열이 있어서 if문 사용\n",
    "                links.append(s[\"href\"])\n",
    "                i += 1\n",
    "\n",
    "        data_set.update({  \"year\" : yr, \"link\" : links})\n",
    "    \n",
    "    # 해당 팀의 링크를 가져옴\n",
    "    link_team=data_set['link'][rank-1]\n",
    "    req1 = requests.get(\"https://www.transfermarkt.com{}\".format(link_team), headers=HEADERS)\n",
    "    html1 = req1.text\n",
    "    soup1 = BeautifulSoup(html1, 'lxml')\n",
    "    formations = soup1.select(\"td.zentriert\")\n",
    "    \n",
    "    # for문을 통해 가져온 soup에서 불필요한 요소들을 제거하는 반복문을 만듬\n",
    "    # strip으로 공백을 지우고, 포지션에만 들어가는 \"-\"가 1개 이상이며 길이가 4이상인 텍스트만 추출\n",
    "    for i in  formations:\n",
    "        i=i.text.strip()\n",
    "        if 1 < i.count(\"-\") and len(i) > 4:\n",
    "            formation.append(i)\n",
    "    return formation\n",
    "    "
   ]
  },
  {
   "cell_type": "code",
   "execution_count": 82,
   "id": "14aeb502",
   "metadata": {},
   "outputs": [
    {
     "name": "stdout",
     "output_type": "stream",
     "text": [
      "현재 2023년도를 크롤링 중입니다...\n",
      "현재 해당팀은 15라운드까지 진행하였습니다\n"
     ]
    },
    {
     "data": {
      "text/plain": [
       "['4-2-3-1',\n",
       " '4-2-3-1',\n",
       " '4-2-3-1',\n",
       " '4-2-3-1',\n",
       " '4-2-3-1',\n",
       " '4-2-3-1',\n",
       " '4-2-3-1',\n",
       " '4-2-3-1',\n",
       " '4-2-3-1',\n",
       " '4-2-3-1',\n",
       " '4-2-3-1',\n",
       " '4-3-3 Attacking',\n",
       " '4-2-3-1',\n",
       " '4-2-3-1',\n",
       " '4-2-3-1']"
      ]
     },
     "execution_count": 82,
     "metadata": {},
     "output_type": "execute_result"
    }
   ],
   "source": [
    "formation_EPL(2023, 5)"
   ]
  },
  {
   "cell_type": "code",
   "execution_count": 22,
   "id": "39f4b783",
   "metadata": {
    "scrolled": true
   },
   "outputs": [
    {
     "ename": "TypeError",
     "evalue": "string indices must be integers, not 'str'",
     "output_type": "error",
     "traceback": [
      "\u001b[1;31m---------------------------------------------------------------------------\u001b[0m",
      "\u001b[1;31mTypeError\u001b[0m                                 Traceback (most recent call last)",
      "Cell \u001b[1;32mIn[22], line 2\u001b[0m\n\u001b[0;32m      1\u001b[0m \u001b[38;5;28;01mfor\u001b[39;00m idx, data \u001b[38;5;129;01min\u001b[39;00m \u001b[38;5;28menumerate\u001b[39m(data_set):\n\u001b[1;32m----> 2\u001b[0m     \u001b[38;5;28;01mfor\u001b[39;00m url \u001b[38;5;129;01min\u001b[39;00m data[\u001b[38;5;124m\"\u001b[39m\u001b[38;5;124mlink\u001b[39m\u001b[38;5;124m\"\u001b[39m]:\n\u001b[0;32m      4\u001b[0m         req \u001b[38;5;241m=\u001b[39m requests\u001b[38;5;241m.\u001b[39mget(\u001b[38;5;124m\"\u001b[39m\u001b[38;5;124mhttps://www.transfermarkt.com\u001b[39m\u001b[38;5;132;01m{}\u001b[39;00m\u001b[38;5;124m\"\u001b[39m\u001b[38;5;241m.\u001b[39mformat(url), headers\u001b[38;5;241m=\u001b[39mHEADERS)\n\u001b[0;32m      5\u001b[0m         html \u001b[38;5;241m=\u001b[39m req\u001b[38;5;241m.\u001b[39mtext\n",
      "\u001b[1;31mTypeError\u001b[0m: string indices must be integers, not 'str'"
     ]
    }
   ],
   "source": [
    "for idx, data in enumerate(data_set):\n",
    "    for url in data[\"link\"]:\n",
    "\n",
    "        req = requests.get(\"https://www.transfermarkt.com{}\".format(url), headers=HEADERS)\n",
    "        html = req.text\n",
    "        soup = BeautifulSoup(html, 'lxml')\n",
    "        formation = soup.select(\"td.zentriert\")\n",
    "        \n",
    "        break\n",
    "\n",
    "\n"
   ]
  },
  {
   "cell_type": "code",
   "execution_count": 41,
   "id": "21239c17",
   "metadata": {},
   "outputs": [
    {
     "ename": "NameError",
     "evalue": "name 'link_team' is not defined",
     "output_type": "error",
     "traceback": [
      "\u001b[1;31m---------------------------------------------------------------------------\u001b[0m",
      "\u001b[1;31mNameError\u001b[0m                                 Traceback (most recent call last)",
      "Cell \u001b[1;32mIn[41], line 1\u001b[0m\n\u001b[1;32m----> 1\u001b[0m req1 \u001b[38;5;241m=\u001b[39m requests\u001b[38;5;241m.\u001b[39mget(\u001b[38;5;124m\"\u001b[39m\u001b[38;5;124mhttps://www.transfermarkt.com/\u001b[39m\u001b[38;5;132;01m{}\u001b[39;00m\u001b[38;5;124m\"\u001b[39m\u001b[38;5;241m.\u001b[39mformat(link_team), headers\u001b[38;5;241m=\u001b[39mHEADERS)\n\u001b[0;32m      2\u001b[0m html1 \u001b[38;5;241m=\u001b[39m req1\u001b[38;5;241m.\u001b[39mtext\n\u001b[0;32m      3\u001b[0m soup1 \u001b[38;5;241m=\u001b[39m BeautifulSoup(html1, \u001b[38;5;124m'\u001b[39m\u001b[38;5;124mlxml\u001b[39m\u001b[38;5;124m'\u001b[39m)\n",
      "\u001b[1;31mNameError\u001b[0m: name 'link_team' is not defined"
     ]
    }
   ],
   "source": [
    "\n",
    "    req1 = requests.get(\"https://www.transfermarkt.com/{}\".format(link_team), headers=HEADERS)\n",
    "    html1 = req1.text\n",
    "    soup1 = BeautifulSoup(html1, 'lxml')\n",
    "    formation=soup1.select(\"td.zentriert\")\n",
    "    print(formation)\n"
   ]
  },
  {
   "cell_type": "code",
   "execution_count": 19,
   "id": "ab4bd5e2",
   "metadata": {},
   "outputs": [
    {
     "name": "stdout",
     "output_type": "stream",
     "text": [
      "[{'year': 2023, 'link': ['/fc-arsenal/spielplan/verein/11/saison_id/2023', '/fc-liverpool/spielplan/verein/31/saison_id/2023', '/manchester-city/spielplan/verein/281/saison_id/2023', '/aston-villa/spielplan/verein/405/saison_id/2023', '/tottenham-hotspur/spielplan/verein/148/saison_id/2023', '/newcastle-united/spielplan/verein/762/saison_id/2023', '/manchester-united/spielplan/verein/985/saison_id/2023', '/brighton-amp-hove-albion/spielplan/verein/1237/saison_id/2023', '/west-ham-united/spielplan/verein/379/saison_id/2023', '/fc-chelsea/spielplan/verein/631/saison_id/2023']}, {'year': 2023, 'link': ['/fc-arsenal/spielplan/verein/11/saison_id/2023', '/fc-liverpool/spielplan/verein/31/saison_id/2023', '/manchester-city/spielplan/verein/281/saison_id/2023', '/aston-villa/spielplan/verein/405/saison_id/2023', '/tottenham-hotspur/spielplan/verein/148/saison_id/2023', '/newcastle-united/spielplan/verein/762/saison_id/2023', '/manchester-united/spielplan/verein/985/saison_id/2023', '/brighton-amp-hove-albion/spielplan/verein/1237/saison_id/2023', '/west-ham-united/spielplan/verein/379/saison_id/2023', '/fc-chelsea/spielplan/verein/631/saison_id/2023']}, {'year': 2023, 'link': ['/fc-arsenal/spielplan/verein/11/saison_id/2023', '/fc-liverpool/spielplan/verein/31/saison_id/2023', '/manchester-city/spielplan/verein/281/saison_id/2023', '/aston-villa/spielplan/verein/405/saison_id/2023', '/tottenham-hotspur/spielplan/verein/148/saison_id/2023', '/newcastle-united/spielplan/verein/762/saison_id/2023', '/manchester-united/spielplan/verein/985/saison_id/2023', '/brighton-amp-hove-albion/spielplan/verein/1237/saison_id/2023', '/west-ham-united/spielplan/verein/379/saison_id/2023', '/fc-chelsea/spielplan/verein/631/saison_id/2023']}, {'year': 2023, 'link': ['/fc-arsenal/spielplan/verein/11/saison_id/2023', '/fc-liverpool/spielplan/verein/31/saison_id/2023', '/manchester-city/spielplan/verein/281/saison_id/2023', '/aston-villa/spielplan/verein/405/saison_id/2023', '/tottenham-hotspur/spielplan/verein/148/saison_id/2023', '/newcastle-united/spielplan/verein/762/saison_id/2023', '/manchester-united/spielplan/verein/985/saison_id/2023', '/brighton-amp-hove-albion/spielplan/verein/1237/saison_id/2023', '/west-ham-united/spielplan/verein/379/saison_id/2023', '/fc-chelsea/spielplan/verein/631/saison_id/2023']}, {'year': 2023, 'link': ['/fc-arsenal/spielplan/verein/11/saison_id/2023', '/fc-liverpool/spielplan/verein/31/saison_id/2023', '/manchester-city/spielplan/verein/281/saison_id/2023', '/aston-villa/spielplan/verein/405/saison_id/2023', '/tottenham-hotspur/spielplan/verein/148/saison_id/2023', '/newcastle-united/spielplan/verein/762/saison_id/2023', '/manchester-united/spielplan/verein/985/saison_id/2023', '/brighton-amp-hove-albion/spielplan/verein/1237/saison_id/2023', '/west-ham-united/spielplan/verein/379/saison_id/2023', '/fc-chelsea/spielplan/verein/631/saison_id/2023']}, {'year': 2023, 'link': ['/fc-arsenal/spielplan/verein/11/saison_id/2023', '/fc-liverpool/spielplan/verein/31/saison_id/2023', '/manchester-city/spielplan/verein/281/saison_id/2023', '/aston-villa/spielplan/verein/405/saison_id/2023', '/tottenham-hotspur/spielplan/verein/148/saison_id/2023', '/newcastle-united/spielplan/verein/762/saison_id/2023', '/manchester-united/spielplan/verein/985/saison_id/2023', '/brighton-amp-hove-albion/spielplan/verein/1237/saison_id/2023', '/west-ham-united/spielplan/verein/379/saison_id/2023', '/fc-chelsea/spielplan/verein/631/saison_id/2023']}, {'year': 2023, 'link': ['/fc-arsenal/spielplan/verein/11/saison_id/2023', '/fc-liverpool/spielplan/verein/31/saison_id/2023', '/manchester-city/spielplan/verein/281/saison_id/2023', '/aston-villa/spielplan/verein/405/saison_id/2023', '/tottenham-hotspur/spielplan/verein/148/saison_id/2023', '/newcastle-united/spielplan/verein/762/saison_id/2023', '/manchester-united/spielplan/verein/985/saison_id/2023', '/brighton-amp-hove-albion/spielplan/verein/1237/saison_id/2023', '/west-ham-united/spielplan/verein/379/saison_id/2023', '/fc-chelsea/spielplan/verein/631/saison_id/2023']}, {'year': 2023, 'link': ['/fc-arsenal/spielplan/verein/11/saison_id/2023', '/fc-liverpool/spielplan/verein/31/saison_id/2023', '/manchester-city/spielplan/verein/281/saison_id/2023', '/aston-villa/spielplan/verein/405/saison_id/2023', '/tottenham-hotspur/spielplan/verein/148/saison_id/2023', '/newcastle-united/spielplan/verein/762/saison_id/2023', '/manchester-united/spielplan/verein/985/saison_id/2023', '/brighton-amp-hove-albion/spielplan/verein/1237/saison_id/2023', '/west-ham-united/spielplan/verein/379/saison_id/2023', '/fc-chelsea/spielplan/verein/631/saison_id/2023']}, {'year': 2023, 'link': ['/fc-arsenal/spielplan/verein/11/saison_id/2023', '/fc-liverpool/spielplan/verein/31/saison_id/2023', '/manchester-city/spielplan/verein/281/saison_id/2023', '/aston-villa/spielplan/verein/405/saison_id/2023', '/tottenham-hotspur/spielplan/verein/148/saison_id/2023', '/newcastle-united/spielplan/verein/762/saison_id/2023', '/manchester-united/spielplan/verein/985/saison_id/2023', '/brighton-amp-hove-albion/spielplan/verein/1237/saison_id/2023', '/west-ham-united/spielplan/verein/379/saison_id/2023', '/fc-chelsea/spielplan/verein/631/saison_id/2023']}, {'year': 2023, 'link': ['/fc-arsenal/spielplan/verein/11/saison_id/2023', '/fc-liverpool/spielplan/verein/31/saison_id/2023', '/manchester-city/spielplan/verein/281/saison_id/2023', '/aston-villa/spielplan/verein/405/saison_id/2023', '/tottenham-hotspur/spielplan/verein/148/saison_id/2023', '/newcastle-united/spielplan/verein/762/saison_id/2023', '/manchester-united/spielplan/verein/985/saison_id/2023', '/brighton-amp-hove-albion/spielplan/verein/1237/saison_id/2023', '/west-ham-united/spielplan/verein/379/saison_id/2023', '/fc-chelsea/spielplan/verein/631/saison_id/2023']}, {'year': 2023, 'link': ['/fc-arsenal/spielplan/verein/11/saison_id/2023', '/fc-liverpool/spielplan/verein/31/saison_id/2023', '/manchester-city/spielplan/verein/281/saison_id/2023', '/aston-villa/spielplan/verein/405/saison_id/2023', '/tottenham-hotspur/spielplan/verein/148/saison_id/2023', '/newcastle-united/spielplan/verein/762/saison_id/2023', '/manchester-united/spielplan/verein/985/saison_id/2023', '/brighton-amp-hove-albion/spielplan/verein/1237/saison_id/2023', '/west-ham-united/spielplan/verein/379/saison_id/2023', '/fc-chelsea/spielplan/verein/631/saison_id/2023']}, {'year': 2023, 'link': ['/fc-arsenal/spielplan/verein/11/saison_id/2023', '/fc-liverpool/spielplan/verein/31/saison_id/2023', '/manchester-city/spielplan/verein/281/saison_id/2023', '/aston-villa/spielplan/verein/405/saison_id/2023', '/tottenham-hotspur/spielplan/verein/148/saison_id/2023', '/newcastle-united/spielplan/verein/762/saison_id/2023', '/manchester-united/spielplan/verein/985/saison_id/2023', '/brighton-amp-hove-albion/spielplan/verein/1237/saison_id/2023', '/west-ham-united/spielplan/verein/379/saison_id/2023', '/fc-chelsea/spielplan/verein/631/saison_id/2023']}, {'year': 2023, 'link': ['/fc-arsenal/spielplan/verein/11/saison_id/2023', '/fc-liverpool/spielplan/verein/31/saison_id/2023', '/manchester-city/spielplan/verein/281/saison_id/2023', '/aston-villa/spielplan/verein/405/saison_id/2023', '/tottenham-hotspur/spielplan/verein/148/saison_id/2023', '/newcastle-united/spielplan/verein/762/saison_id/2023', '/manchester-united/spielplan/verein/985/saison_id/2023', '/brighton-amp-hove-albion/spielplan/verein/1237/saison_id/2023', '/west-ham-united/spielplan/verein/379/saison_id/2023', '/fc-chelsea/spielplan/verein/631/saison_id/2023']}, {'year': 2023, 'link': ['/fc-arsenal/spielplan/verein/11/saison_id/2023', '/fc-liverpool/spielplan/verein/31/saison_id/2023', '/manchester-city/spielplan/verein/281/saison_id/2023', '/aston-villa/spielplan/verein/405/saison_id/2023', '/tottenham-hotspur/spielplan/verein/148/saison_id/2023', '/newcastle-united/spielplan/verein/762/saison_id/2023', '/manchester-united/spielplan/verein/985/saison_id/2023', '/brighton-amp-hove-albion/spielplan/verein/1237/saison_id/2023', '/west-ham-united/spielplan/verein/379/saison_id/2023', '/fc-chelsea/spielplan/verein/631/saison_id/2023']}, {'year': 2023, 'link': ['/fc-arsenal/spielplan/verein/11/saison_id/2023', '/fc-liverpool/spielplan/verein/31/saison_id/2023', '/manchester-city/spielplan/verein/281/saison_id/2023', '/aston-villa/spielplan/verein/405/saison_id/2023', '/tottenham-hotspur/spielplan/verein/148/saison_id/2023', '/newcastle-united/spielplan/verein/762/saison_id/2023', '/manchester-united/spielplan/verein/985/saison_id/2023', '/brighton-amp-hove-albion/spielplan/verein/1237/saison_id/2023', '/west-ham-united/spielplan/verein/379/saison_id/2023', '/fc-chelsea/spielplan/verein/631/saison_id/2023']}, {'year': 2023, 'link': ['/fc-arsenal/spielplan/verein/11/saison_id/2023', '/fc-liverpool/spielplan/verein/31/saison_id/2023', '/manchester-city/spielplan/verein/281/saison_id/2023', '/aston-villa/spielplan/verein/405/saison_id/2023', '/tottenham-hotspur/spielplan/verein/148/saison_id/2023', '/newcastle-united/spielplan/verein/762/saison_id/2023', '/manchester-united/spielplan/verein/985/saison_id/2023', '/brighton-amp-hove-albion/spielplan/verein/1237/saison_id/2023', '/west-ham-united/spielplan/verein/379/saison_id/2023', '/fc-chelsea/spielplan/verein/631/saison_id/2023']}, {'year': 2023, 'link': ['/fc-arsenal/spielplan/verein/11/saison_id/2023', '/fc-liverpool/spielplan/verein/31/saison_id/2023', '/manchester-city/spielplan/verein/281/saison_id/2023', '/aston-villa/spielplan/verein/405/saison_id/2023', '/tottenham-hotspur/spielplan/verein/148/saison_id/2023', '/newcastle-united/spielplan/verein/762/saison_id/2023', '/manchester-united/spielplan/verein/985/saison_id/2023', '/brighton-amp-hove-albion/spielplan/verein/1237/saison_id/2023', '/west-ham-united/spielplan/verein/379/saison_id/2023', '/fc-chelsea/spielplan/verein/631/saison_id/2023']}, {'year': 2023, 'link': ['/fc-arsenal/spielplan/verein/11/saison_id/2023', '/fc-liverpool/spielplan/verein/31/saison_id/2023', '/manchester-city/spielplan/verein/281/saison_id/2023', '/aston-villa/spielplan/verein/405/saison_id/2023', '/tottenham-hotspur/spielplan/verein/148/saison_id/2023', '/newcastle-united/spielplan/verein/762/saison_id/2023', '/manchester-united/spielplan/verein/985/saison_id/2023', '/brighton-amp-hove-albion/spielplan/verein/1237/saison_id/2023', '/west-ham-united/spielplan/verein/379/saison_id/2023', '/fc-chelsea/spielplan/verein/631/saison_id/2023']}, {'year': 2023, 'link': ['/fc-arsenal/spielplan/verein/11/saison_id/2023', '/fc-liverpool/spielplan/verein/31/saison_id/2023', '/manchester-city/spielplan/verein/281/saison_id/2023', '/aston-villa/spielplan/verein/405/saison_id/2023', '/tottenham-hotspur/spielplan/verein/148/saison_id/2023', '/newcastle-united/spielplan/verein/762/saison_id/2023', '/manchester-united/spielplan/verein/985/saison_id/2023', '/brighton-amp-hove-albion/spielplan/verein/1237/saison_id/2023', '/west-ham-united/spielplan/verein/379/saison_id/2023', '/fc-chelsea/spielplan/verein/631/saison_id/2023']}, {'year': 2023, 'link': ['/fc-arsenal/spielplan/verein/11/saison_id/2023', '/fc-liverpool/spielplan/verein/31/saison_id/2023', '/manchester-city/spielplan/verein/281/saison_id/2023', '/aston-villa/spielplan/verein/405/saison_id/2023', '/tottenham-hotspur/spielplan/verein/148/saison_id/2023', '/newcastle-united/spielplan/verein/762/saison_id/2023', '/manchester-united/spielplan/verein/985/saison_id/2023', '/brighton-amp-hove-albion/spielplan/verein/1237/saison_id/2023', '/west-ham-united/spielplan/verein/379/saison_id/2023', '/fc-chelsea/spielplan/verein/631/saison_id/2023']}, {'year': 2023, 'link': ['/fc-arsenal/spielplan/verein/11/saison_id/2023', '/fc-liverpool/spielplan/verein/31/saison_id/2023', '/manchester-city/spielplan/verein/281/saison_id/2023', '/aston-villa/spielplan/verein/405/saison_id/2023', '/tottenham-hotspur/spielplan/verein/148/saison_id/2023', '/newcastle-united/spielplan/verein/762/saison_id/2023', '/manchester-united/spielplan/verein/985/saison_id/2023', '/brighton-amp-hove-albion/spielplan/verein/1237/saison_id/2023', '/west-ham-united/spielplan/verein/379/saison_id/2023', '/fc-chelsea/spielplan/verein/631/saison_id/2023']}, {'year': 2023, 'link': ['/fc-arsenal/spielplan/verein/11/saison_id/2023', '/fc-liverpool/spielplan/verein/31/saison_id/2023', '/manchester-city/spielplan/verein/281/saison_id/2023', '/aston-villa/spielplan/verein/405/saison_id/2023', '/tottenham-hotspur/spielplan/verein/148/saison_id/2023', '/newcastle-united/spielplan/verein/762/saison_id/2023', '/manchester-united/spielplan/verein/985/saison_id/2023', '/brighton-amp-hove-albion/spielplan/verein/1237/saison_id/2023', '/west-ham-united/spielplan/verein/379/saison_id/2023', '/fc-chelsea/spielplan/verein/631/saison_id/2023']}, {'year': 2023, 'link': ['/fc-arsenal/spielplan/verein/11/saison_id/2023', '/fc-liverpool/spielplan/verein/31/saison_id/2023', '/manchester-city/spielplan/verein/281/saison_id/2023', '/aston-villa/spielplan/verein/405/saison_id/2023', '/tottenham-hotspur/spielplan/verein/148/saison_id/2023', '/newcastle-united/spielplan/verein/762/saison_id/2023', '/manchester-united/spielplan/verein/985/saison_id/2023', '/brighton-amp-hove-albion/spielplan/verein/1237/saison_id/2023', '/west-ham-united/spielplan/verein/379/saison_id/2023', '/fc-chelsea/spielplan/verein/631/saison_id/2023']}, {'year': 2023, 'link': ['/fc-arsenal/spielplan/verein/11/saison_id/2023', '/fc-liverpool/spielplan/verein/31/saison_id/2023', '/manchester-city/spielplan/verein/281/saison_id/2023', '/aston-villa/spielplan/verein/405/saison_id/2023', '/tottenham-hotspur/spielplan/verein/148/saison_id/2023', '/newcastle-united/spielplan/verein/762/saison_id/2023', '/manchester-united/spielplan/verein/985/saison_id/2023', '/brighton-amp-hove-albion/spielplan/verein/1237/saison_id/2023', '/west-ham-united/spielplan/verein/379/saison_id/2023', '/fc-chelsea/spielplan/verein/631/saison_id/2023']}, {'year': 2023, 'link': ['/fc-arsenal/spielplan/verein/11/saison_id/2023', '/fc-liverpool/spielplan/verein/31/saison_id/2023', '/manchester-city/spielplan/verein/281/saison_id/2023', '/aston-villa/spielplan/verein/405/saison_id/2023', '/tottenham-hotspur/spielplan/verein/148/saison_id/2023', '/newcastle-united/spielplan/verein/762/saison_id/2023', '/manchester-united/spielplan/verein/985/saison_id/2023', '/brighton-amp-hove-albion/spielplan/verein/1237/saison_id/2023', '/west-ham-united/spielplan/verein/379/saison_id/2023', '/fc-chelsea/spielplan/verein/631/saison_id/2023']}, {'year': 2023, 'link': ['/fc-arsenal/spielplan/verein/11/saison_id/2023', '/fc-liverpool/spielplan/verein/31/saison_id/2023', '/manchester-city/spielplan/verein/281/saison_id/2023', '/aston-villa/spielplan/verein/405/saison_id/2023', '/tottenham-hotspur/spielplan/verein/148/saison_id/2023', '/newcastle-united/spielplan/verein/762/saison_id/2023', '/manchester-united/spielplan/verein/985/saison_id/2023', '/brighton-amp-hove-albion/spielplan/verein/1237/saison_id/2023', '/west-ham-united/spielplan/verein/379/saison_id/2023', '/fc-chelsea/spielplan/verein/631/saison_id/2023']}, {'year': 2023, 'link': ['/fc-arsenal/spielplan/verein/11/saison_id/2023', '/fc-liverpool/spielplan/verein/31/saison_id/2023', '/manchester-city/spielplan/verein/281/saison_id/2023', '/aston-villa/spielplan/verein/405/saison_id/2023', '/tottenham-hotspur/spielplan/verein/148/saison_id/2023', '/newcastle-united/spielplan/verein/762/saison_id/2023', '/manchester-united/spielplan/verein/985/saison_id/2023', '/brighton-amp-hove-albion/spielplan/verein/1237/saison_id/2023', '/west-ham-united/spielplan/verein/379/saison_id/2023', '/fc-chelsea/spielplan/verein/631/saison_id/2023']}, {'year': 2023, 'link': ['/fc-arsenal/spielplan/verein/11/saison_id/2023', '/fc-liverpool/spielplan/verein/31/saison_id/2023', '/manchester-city/spielplan/verein/281/saison_id/2023', '/aston-villa/spielplan/verein/405/saison_id/2023', '/tottenham-hotspur/spielplan/verein/148/saison_id/2023', '/newcastle-united/spielplan/verein/762/saison_id/2023', '/manchester-united/spielplan/verein/985/saison_id/2023', '/brighton-amp-hove-albion/spielplan/verein/1237/saison_id/2023', '/west-ham-united/spielplan/verein/379/saison_id/2023', '/fc-chelsea/spielplan/verein/631/saison_id/2023']}, {'year': 2023, 'link': ['/fc-arsenal/spielplan/verein/11/saison_id/2023', '/fc-liverpool/spielplan/verein/31/saison_id/2023', '/manchester-city/spielplan/verein/281/saison_id/2023', '/aston-villa/spielplan/verein/405/saison_id/2023', '/tottenham-hotspur/spielplan/verein/148/saison_id/2023', '/newcastle-united/spielplan/verein/762/saison_id/2023', '/manchester-united/spielplan/verein/985/saison_id/2023', '/brighton-amp-hove-albion/spielplan/verein/1237/saison_id/2023', '/west-ham-united/spielplan/verein/379/saison_id/2023', '/fc-chelsea/spielplan/verein/631/saison_id/2023']}, {'year': 2023, 'link': ['/fc-arsenal/spielplan/verein/11/saison_id/2023', '/fc-liverpool/spielplan/verein/31/saison_id/2023', '/manchester-city/spielplan/verein/281/saison_id/2023', '/aston-villa/spielplan/verein/405/saison_id/2023', '/tottenham-hotspur/spielplan/verein/148/saison_id/2023', '/newcastle-united/spielplan/verein/762/saison_id/2023', '/manchester-united/spielplan/verein/985/saison_id/2023', '/brighton-amp-hove-albion/spielplan/verein/1237/saison_id/2023', '/west-ham-united/spielplan/verein/379/saison_id/2023', '/fc-chelsea/spielplan/verein/631/saison_id/2023']}]\n"
     ]
    }
   ],
   "source": [
    "print(data_set)"
   ]
  },
  {
   "cell_type": "code",
   "execution_count": 83,
   "id": "7cc95cca",
   "metadata": {},
   "outputs": [
    {
     "data": {
      "text/plain": [
       "dict"
      ]
     },
     "execution_count": 83,
     "metadata": {},
     "output_type": "execute_result"
    }
   ],
   "source": [
    "type(data_set)"
   ]
  }
 ],
 "metadata": {
  "kernelspec": {
   "display_name": "Python 3 (ipykernel)",
   "language": "python",
   "name": "python3"
  },
  "language_info": {
   "codemirror_mode": {
    "name": "ipython",
    "version": 3
   },
   "file_extension": ".py",
   "mimetype": "text/x-python",
   "name": "python",
   "nbconvert_exporter": "python",
   "pygments_lexer": "ipython3",
   "version": "3.11.4"
  }
 },
 "nbformat": 4,
 "nbformat_minor": 5
}
