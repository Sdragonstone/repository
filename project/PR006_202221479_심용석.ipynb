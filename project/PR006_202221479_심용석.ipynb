{
 "cells": [
  {
   "cell_type": "markdown",
   "id": "92b56bcb",
   "metadata": {},
   "source": [
    "## 풀이"
   ]
  },
  {
   "cell_type": "code",
   "execution_count": 153,
   "id": "787b9a17",
   "metadata": {},
   "outputs": [],
   "source": [
    "class Account:\n",
    "    count = 0\n",
    "            \n",
    "    def __init__(self, password, balance=0):\n",
    "        self.balance = balance\n",
    "        self.__password = str(password)\n",
    "        Account.count += 1\n",
    "        \n",
    "        \n",
    "    def deposit(self,d_amount):\n",
    "        self.balance += d_amount\n",
    "        print(f\"{d_amount}원이 정상적으로 입금되었습니다\")\n",
    "        \n",
    "    def withdraw(self, w_amount, w_password):\n",
    "        if str(w_password) == self.__password:\n",
    "            if self.balance < w_amount:\n",
    "                print(f\"잔액이 부족합니다. 현재 잔액 {self.balance}원\")\n",
    "            else:\n",
    "                self.balance -= w_amount\n",
    "                print(f\"{w_amount}원이 정상적으로 출금되어 잔액이 {self.balance}원입니다\")\n",
    "        else:\n",
    "            print(\"비밀번호가 틀렸습니다.\")\n",
    "    def pwd_check(self, p_password):\n",
    "        if str(p_password) == self.__password:\n",
    "            print(\"비밀번호가 맞습니다.\")\n",
    "        else:\n",
    "            print(\"비밀번호가 틀렸습니다.\")\n",
    "    def pwd_change(self, password):\n",
    "        if str(password) == self.__password:\n",
    "            self.__password = input()\n",
    "            \n",
    "            while True:\n",
    "                if self.__password.isdigit() == True and len(self.__password) == 4:\n",
    "                    print(\"비밀번호가 변경되었습니다.\")\n",
    "                    break\n",
    "                else:                \n",
    "                    print(\"비밀번호는 4자리 숫자로 이루어져야 합니다.\")\n",
    "                    self.__password = str(input())\n",
    "            \n",
    "        else:\n",
    "            print(\"비밀번호가 틀렸습니다.\")\n",
    "\n",
    "    @classmethod\n",
    "    def print_count(cls):\n",
    "        print(cls.count)\n"
   ]
  },
  {
   "cell_type": "code",
   "execution_count": 151,
   "id": "43f3d9ca",
   "metadata": {},
   "outputs": [
    {
     "name": "stdout",
     "output_type": "stream",
     "text": [
      "0602\n",
      "비밀번호가 변경되었습니다.\n"
     ]
    }
   ],
   "source": [
    "# 1. 잔액 10만원, 비밀번호 486인 sample_account를 생성한다.\n",
    "sample_account = Account(486, 100000)\n",
    "a = Account(456, 13333)\n",
    "# 2. 비밀번호가 짧으므로 비밀번호를 0602로 변경한다.\n",
    "sample_account.pwd_change(486)\n"
   ]
  },
  {
   "cell_type": "code",
   "execution_count": 152,
   "id": "5878fdef",
   "metadata": {},
   "outputs": [
    {
     "name": "stdout",
     "output_type": "stream",
     "text": [
      "50000원이 정상적으로 출금되어 잔액이 50000원입니다\n",
      "잔액이 부족합니다. 현재 잔액 50000원\n",
      "비밀번호가 맞습니다.\n",
      "3\n"
     ]
    }
   ],
   "source": [
    "# 3. 잔액을 5만원 인출해본다.\n",
    "sample_account.withdraw(50000, \"0602\")\n",
    "# 4. 잔액을 10만원 인출해본다.\n",
    "sample_account.withdraw(100000, \"0602\")\n",
    "# 5. 비밀번호가 뭔지 확인해본다.\n",
    "sample_account.pwd_check(\"0602\")\n",
    "# 개설된 클래스의 개수\n",
    "Account.print_count()"
   ]
  }
 ],
 "metadata": {
  "kernelspec": {
   "display_name": "Python 3 (ipykernel)",
   "language": "python",
   "name": "python3"
  },
  "language_info": {
   "codemirror_mode": {
    "name": "ipython",
    "version": 3
   },
   "file_extension": ".py",
   "mimetype": "text/x-python",
   "name": "python",
   "nbconvert_exporter": "python",
   "pygments_lexer": "ipython3",
   "version": "3.11.4"
  }
 },
 "nbformat": 4,
 "nbformat_minor": 5
}
