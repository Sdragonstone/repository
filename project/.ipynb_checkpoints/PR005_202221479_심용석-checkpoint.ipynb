{
 "cells": [
  {
   "cell_type": "markdown",
   "id": "df86d36e",
   "metadata": {},
   "source": [
    "\n",
    "## 문제1"
   ]
  },
  {
   "cell_type": "code",
   "execution_count": 3,
   "id": "5a68fa08",
   "metadata": {},
   "outputs": [],
   "source": [
    "#변법(글로벌)\n",
    "#클래스 내장함수쓰기\n",
    "#데코레이터 쓰기\n",
    "# 함수는 횟수안셈 할거면 class로 하기\n",
    "import random\n",
    "\n",
    "i = 0\n",
    "\n",
    "def npc():\n",
    "    \n",
    "    global i\n",
    "    \n",
    "    random_script_of_NPC = [\n",
    "        '안녕하세요?',\n",
    "        '오늘은 기분이 어떤가요?',\n",
    "        '어젯밤에는 무엇을 드셨나요?',\n",
    "        '오늘 어떤 일을 할 계획을 갖고 계신가요?',\n",
    "        '주량이 어떻게 되세요?',\n",
    "        '어떻게 오셨어요?',\"그만 눌러\"\n",
    "    ]\n",
    "\n",
    "    \n",
    "    \n",
    "    \n",
    "    if i < 10:\n",
    "       \n",
    "        print(random.choice(random_script_of_NPC )) #choice는 균일 확률로 뽑게 만듬\n",
    "        i += 1\n",
    "        \n",
    "    else:\n",
    "        print(random_script_of_NPC)[10]\n",
    "\n"
   ]
  },
  {
   "cell_type": "code",
   "execution_count": 10,
   "id": "b4509aeb",
   "metadata": {},
   "outputs": [],
   "source": [
    "npc()\n",
    "npc()\n",
    "npc()\n",
    "npc()"
   ]
  },
  {
   "cell_type": "code",
   "execution_count": 7,
   "id": "0c0a8495",
   "metadata": {},
   "outputs": [],
   "source": [
    "def npc(n_count = [0]):\n",
    "    n_count[0] += 1 #이렇게 하면 셀수있음 좋은 방식은X"
   ]
  },
  {
   "cell_type": "markdown",
   "id": "60765fbd",
   "metadata": {},
   "source": [
    "## 문제2"
   ]
  },
  {
   "cell_type": "code",
   "execution_count": 13,
   "id": "a2a6d80d",
   "metadata": {},
   "outputs": [
    {
     "name": "stdout",
     "output_type": "stream",
     "text": [
      "3.0\n"
     ]
    }
   ],
   "source": [
    "def avg(arg):\n",
    "      print(sum(arg)/len(arg))\n",
    "\n",
    "\n",
    "avg([1,2,3,4,5])"
   ]
  },
  {
   "cell_type": "code",
   "execution_count": null,
   "id": "7222c663",
   "metadata": {},
   "outputs": [],
   "source": [
    "#교수님 답  만약 *nums를 매개변수로 주면 튜플로 나옴\n",
    "def avg(nums):\n",
    "    if not isinstance(nums, list):\n",
    "        return \"올바른 숫자 리스트를 입력해주세요.\"\n",
    "    r= 0\n",
    "    for num in nums:\n",
    "        if not isinstance(njm, int):\n",
    "            return \"올바른 숫자 리스트를 입력해주세요\"\n",
    "        r += num\n",
    "    return r/len(nums)"
   ]
  },
  {
   "cell_type": "markdown",
   "id": "438d82c3",
   "metadata": {},
   "source": [
    "## 문제3"
   ]
  },
  {
   "cell_type": "code",
   "execution_count": 123,
   "id": "099b5b47",
   "metadata": {},
   "outputs": [
    {
     "name": "stdout",
     "output_type": "stream",
     "text": [
      "False\n",
      "True\n",
      "True\n",
      "False\n",
      "False\n",
      "True\n"
     ]
    }
   ],
   "source": [
    "def check_duplicate(string):\n",
    "    \n",
    "    string_all = string.lower()\n",
    "    \n",
    "    set_all = set()\n",
    "    \n",
    "    for i in string_all:\n",
    "        \n",
    "        if i in set_all:\n",
    "                result = True\n",
    "        else:\n",
    "            result = False\n",
    "            \n",
    "        set_all.add(i)\n",
    "        \n",
    "    return result\n",
    "\n",
    "print(check_duplicate(\"runs\"))  # False\n",
    "print(check_duplicate(\"Business\"))  # True\n",
    "print(check_duplicate(\"programming\"))  # True\n",
    "print(check_duplicate(\"with\"))  # False\n",
    "print(check_duplicate(\"python\"))  # False\n",
    "print(check_duplicate(\"Zz\")) # True\n",
    "\n",
    "# 풀이방법 len(\"Business\") - len(\"Business\".replace(\"\"))쓰기"
   ]
  },
  {
   "cell_type": "markdown",
   "id": "cae09d5e",
   "metadata": {},
   "source": [
    "## 문제4"
   ]
  },
  {
   "cell_type": "code",
   "execution_count": 14,
   "id": "9c6c4025",
   "metadata": {},
   "outputs": [
    {
     "data": {
      "text/plain": [
       "'1000'"
      ]
     },
     "execution_count": 14,
     "metadata": {},
     "output_type": "execute_result"
    }
   ],
   "source": [
    "def binary(n):\n",
    "    bi = []\n",
    "    while n >= 1:\n",
    "        bi.append(str(n%2))\n",
    "        n = n//2\n",
    "\n",
    "    return \"\".join(bi[::-1])\n",
    "            \n",
    "    \n",
    "binary(8)"
   ]
  },
  {
   "cell_type": "markdown",
   "id": "d6ff85f4",
   "metadata": {},
   "source": [
    "## 문제5"
   ]
  },
  {
   "cell_type": "code",
   "execution_count": 155,
   "id": "f6ed5145",
   "metadata": {},
   "outputs": [
    {
     "data": {
      "text/plain": [
       "1234567"
      ]
     },
     "execution_count": 155,
     "metadata": {},
     "output_type": "execute_result"
    }
   ],
   "source": [
    "def glue(*args):\n",
    "    i_all = \"\"\n",
    "    for i in args:\n",
    "        i_all = i_all + (str(i))\n",
    "    return int(i_all)\n",
    "    \n",
    "glue(12, 34, 567)\n"
   ]
  },
  {
   "cell_type": "markdown",
   "id": "165ad781",
   "metadata": {},
   "source": [
    "## 문제6"
   ]
  },
  {
   "cell_type": "code",
   "execution_count": 168,
   "id": "6f9eddba",
   "metadata": {
    "scrolled": true
   },
   "outputs": [
    {
     "name": "stdout",
     "output_type": "stream",
     "text": [
      "음식을 입력하세요:용석찌개\n",
      "용석찌개은(는) 현재 음식 목록에 없습니다. 용석찌개의 단백질 함유량을 입력하세요.\n",
      "용석찌개의 단백질 함유량: 0.1\n",
      "오늘 드신 음식인 순두부찌개, 용석찌개의 단백질 총합은 7.3(g)입니다.\n"
     ]
    }
   ],
   "source": [
    "\n",
    "food_dict = {\n",
    "    # 출처: https://various.foodsafetykorea.go.kr/nutrient/simple/search/firstList.do\n",
    "    '삼겹살': 22.8,\n",
    "    '순두부찌개': 7.2,\n",
    "    '백미밥': 2.65,\n",
    "    '신라면': 10,\n",
    "    '연어초밥': 18.88\n",
    "}\n",
    "\n",
    "def myApp(*foods):\n",
    "    \n",
    "    total_protein = 0.0\n",
    "    for food in foods:\n",
    "        if food in food_dict.keys():\n",
    "            total_protein += food_dict[food]\n",
    "            food_list = ', '.join(foods)\n",
    "            \n",
    "\n",
    "        else:\n",
    "        \n",
    "            food_name = input('음식을 입력하세요:')\n",
    "\n",
    "            print(f\"{food_name}은(는) 현재 음식 목록에 없습니다. {food_name}의 단백질 함유량을 입력하세요.\")\n",
    "            protein = float(input(f\"{food_name}의 단백질 함유량: \"))\n",
    "            total_protein += protein\n",
    "            \n",
    "            # 음식리스트에 추가\n",
    "            add_food = {food_name : protein}\n",
    "            food_dict.update(add_food) \n",
    "            \n",
    "    print(f\"오늘 드신 음식인 {food_list}의 단백질 총합은 {total_protein}(g)입니다.\")\n",
    "    \n",
    "    # 결과 출력\n",
    "    \n",
    "myApp('순두부찌개','용석찌개')"
   ]
  }
 ],
 "metadata": {
  "kernelspec": {
   "display_name": "Python 3 (ipykernel)",
   "language": "python",
   "name": "python3"
  },
  "language_info": {
   "codemirror_mode": {
    "name": "ipython",
    "version": 3
   },
   "file_extension": ".py",
   "mimetype": "text/x-python",
   "name": "python",
   "nbconvert_exporter": "python",
   "pygments_lexer": "ipython3",
   "version": "3.11.4"
  }
 },
 "nbformat": 4,
 "nbformat_minor": 5
}
