{
 "cells": [
  {
   "cell_type": "code",
   "execution_count": 26,
   "id": "d3bf97fd",
   "metadata": {},
   "outputs": [],
   "source": [
    "val_a = 2\n",
    "val_b = 3\n",
    "val_c = 5"
   ]
  },
  {
   "cell_type": "code",
   "execution_count": 27,
   "id": "f94d21b3",
   "metadata": {},
   "outputs": [],
   "source": [
    "result = (val_a**val_b) / val_c"
   ]
  },
  {
   "cell_type": "code",
   "execution_count": 34,
   "id": "940bbd8a",
   "metadata": {},
   "outputs": [],
   "source": [
    "hun = 3000\n",
    "each = 5500\n",
    "daram = 245\n",
    "order_unit = 100"
   ]
  },
  {
   "cell_type": "code",
   "execution_count": 35,
   "id": "7cb6d019",
   "metadata": {},
   "outputs": [
    {
     "name": "stdout",
     "output_type": "stream",
     "text": [
      "847500\n"
     ]
    }
   ],
   "source": [
    "total = (daram//order_unit)*hun*order_unit + (daram%order_unit)*each\n",
    "print(total)"
   ]
  },
  {
   "cell_type": "code",
   "execution_count": 49,
   "id": "2802ea4c",
   "metadata": {},
   "outputs": [],
   "source": [
    "lyric = '''눈을 감아-ah-ah-ah-ah-ah 말해봐 yeah 느껴봐 mm-mm Take him to the sk-y-y-y-y-y\n",
    "You know, I hype you, boy'''\n"
   ]
  },
  {
   "cell_type": "code",
   "execution_count": 63,
   "id": "1bcdfbda",
   "metadata": {},
   "outputs": [],
   "source": [
    "artist = \"Jason Mraz\""
   ]
  },
  {
   "cell_type": "code",
   "execution_count": 68,
   "id": "45c4dd07",
   "metadata": {},
   "outputs": [
    {
     "name": "stdout",
     "output_type": "stream",
     "text": [
      "Jason Mraz\n"
     ]
    }
   ],
   "source": [
    "artist.count(\"a\") #out값 = 반환값(return value)\n",
    "print(artist) #그냥 출력값 =! 반환값"
   ]
  },
  {
   "cell_type": "code",
   "execution_count": 66,
   "id": "cb70e32e",
   "metadata": {},
   "outputs": [
    {
     "data": {
      "text/plain": [
       "10"
      ]
     },
     "execution_count": 66,
     "metadata": {},
     "output_type": "execute_result"
    }
   ],
   "source": [
    "len(artist) #공백도 문자열임"
   ]
  },
  {
   "cell_type": "code",
   "execution_count": 67,
   "id": "13429184",
   "metadata": {},
   "outputs": [
    {
     "data": {
      "text/plain": [
       "2"
      ]
     },
     "execution_count": 67,
     "metadata": {},
     "output_type": "execute_result"
    }
   ],
   "source": []
  },
  {
   "cell_type": "code",
   "execution_count": 15,
   "id": "4d672107",
   "metadata": {},
   "outputs": [
    {
     "data": {
      "text/plain": [
       "['에비츄', '프리져', '이상해씨']"
      ]
     },
     "execution_count": 15,
     "metadata": {},
     "output_type": "execute_result"
    }
   ],
   "source": [
    "pokemens = [\"피카츄\",\"이상해씨\",\"망나뇽\",\"프리져\",\"망나뇽\",\"에비츄\"]\n",
    "\n",
    "pokemens[0] #파이썬은 처음이 0임\n",
    "pokemens[-1] # -가 붙으면 뒤에서 시작함\n",
    "pokemens[1:3] # 1번부터 3번전까지 즉, 1~2번까지\n",
    "pokemens[1:6] # 슬라이싱할때는 index번호를 넘어도 상관없음\n",
    "pokemens[10:100] #이것도 되는데 빈 리스트가 나옴\n",
    "pokemens[:] # 끝까지 뽑고 싶으면 생략하면됨\n",
    "pokemens[1:5:2] #step으로 건너 뛰는게 가능\n",
    "pokemens[::-2] #-step은 거꾸로 감"
   ]
  },
  {
   "cell_type": "code",
   "execution_count": 13,
   "id": "bdbd3781",
   "metadata": {},
   "outputs": [
    {
     "data": {
      "text/plain": [
       "['프리져2', '에비츄2']"
      ]
     },
     "execution_count": 13,
     "metadata": {},
     "output_type": "execute_result"
    }
   ],
   "source": [
    "pokemens_2 = [\"망나뇽2\",\"프리져2\",\"에비츄2\"]\n",
    "pokemens_2[-2:] #뒤에서 2번째부터 끝까지\n"
   ]
  },
  {
   "cell_type": "code",
   "execution_count": 38,
   "id": "1fd7ce22",
   "metadata": {},
   "outputs": [],
   "source": [
    "customer_arrivals = [[\"이한솔\",\"Biz Lee\"],[\"이한솔\"]] #문자가 하나여도 리스트로[]넣어줘야 자료형을 맞추어서 더 편함\n"
   ]
  },
  {
   "cell_type": "code",
   "execution_count": 44,
   "id": "b47c34e3",
   "metadata": {},
   "outputs": [],
   "source": [
    "courses = [\"비프\", \"경소\",\"통계\"]\n",
    "courses.append(\"[머신러닝]\") # 리스트에 추가"
   ]
  },
  {
   "cell_type": "code",
   "execution_count": 45,
   "id": "86409dd4",
   "metadata": {},
   "outputs": [
    {
     "data": {
      "text/plain": [
       "['비프', '경소', '통계', '[머신러닝]']"
      ]
     },
     "execution_count": 45,
     "metadata": {},
     "output_type": "execute_result"
    }
   ],
   "source": [
    "courses"
   ]
  },
  {
   "cell_type": "code",
   "execution_count": 47,
   "id": "9244133b",
   "metadata": {},
   "outputs": [],
   "source": [
    "courses.extend([\"재무2\"]) #리스트를 연결 append랑 차이 인식하기"
   ]
  },
  {
   "cell_type": "code",
   "execution_count": 37,
   "id": "03287f8d",
   "metadata": {},
   "outputs": [
    {
     "ename": "IndexError",
     "evalue": "pop from empty list",
     "output_type": "error",
     "traceback": [
      "\u001b[1;31m---------------------------------------------------------------------------\u001b[0m",
      "\u001b[1;31mIndexError\u001b[0m                                Traceback (most recent call last)",
      "Cell \u001b[1;32mIn[37], line 4\u001b[0m\n\u001b[0;32m      1\u001b[0m \u001b[38;5;66;03m# insert는 넣으면 그 뒤로 다시 배치해서 엄청 오래걸림 잘안씀\u001b[39;00m\n\u001b[0;32m      2\u001b[0m \u001b[38;5;66;03m# pop\u001b[39;00m\n\u001b[1;32m----> 4\u001b[0m customer_arrivals\u001b[38;5;241m.\u001b[39mpop() \u001b[38;5;66;03m#마지막꺼 꺼내주면서 보여줌 = (-1) 즉, FILO (내부적으로 삭제됨) 뒤에 하는이유는 앞에서 가져오면 다시 정렬해서 ㅜㅜ\u001b[39;00m\n\u001b[0;32m      5\u001b[0m customer_arrivals\u001b[38;5;241m.\u001b[39mpop(\u001b[38;5;241m0\u001b[39m)\n",
      "\u001b[1;31mIndexError\u001b[0m: pop from empty list"
     ]
    }
   ],
   "source": [
    "# insert는 넣으면 그 뒤로 다시 배치해서 엄청 오래걸림 잘안씀\n",
    "# pop\n",
    "\n",
    "customer_arrivals.pop() #마지막꺼 꺼내주면서 보여줌 = (-1) 즉, FILO (내부적으로 삭제됨) 뒤에 하는이유는 앞에서 가져오면 다시 정렬해서 ㅜㅜ\n",
    "customer_arrivals.pop(0) # 맨앞을 꺼냄\n"
   ]
  },
  {
   "cell_type": "code",
   "execution_count": 47,
   "id": "44706f92",
   "metadata": {},
   "outputs": [
    {
     "name": "stdout",
     "output_type": "stream",
     "text": [
      "['이한솔', 'Biz Lee']\n"
     ]
    },
    {
     "data": {
      "text/plain": [
       "'이한솔, Biz Lee'"
      ]
     },
     "execution_count": 47,
     "metadata": {},
     "output_type": "execute_result"
    }
   ],
   "source": [
    "print(customer_arrivals[0])\n",
    "\", \".join(customer_arrivals[0]) #delimiter(사이사이 문자열) 중간고사 무조건 나옴!!!!!!!"
   ]
  },
  {
   "cell_type": "code",
   "execution_count": 49,
   "id": "73c0e11a",
   "metadata": {},
   "outputs": [
    {
     "data": {
      "text/plain": [
       "{1, 2, 3}"
      ]
     },
     "execution_count": 49,
     "metadata": {},
     "output_type": "execute_result"
    }
   ],
   "source": [
    "# 튜플도 인덱싱 할수있음\n",
    "[] #list indexing\n",
    "() # tuple\n",
    "{1,2,3,3,3,3,3} # 집합변수는 중복된 값을 갖지않음 indexing 슬라이싱 의미X\n"
   ]
  },
  {
   "cell_type": "code",
   "execution_count": 52,
   "id": "4243726a",
   "metadata": {},
   "outputs": [
    {
     "data": {
      "text/plain": [
       "()"
      ]
     },
     "execution_count": 52,
     "metadata": {},
     "output_type": "execute_result"
    }
   ],
   "source": [
    "\n",
    "\n",
    "#자료형 바꾸기 조건 : 비슷한 형식이여야함 list, set, tuple은 서로 비슷해서 잘됨\n",
    "int()\n",
    "str()\n",
    "list()\n",
    "dict() # 딕셔너리\n",
    "set() # 집합\n",
    "tuple()"
   ]
  },
  {
   "cell_type": "code",
   "execution_count": 1,
   "id": "09f551c8",
   "metadata": {},
   "outputs": [],
   "source": [
    "customer = [1,2,3,4,5,6,7,8,9,0,1,2,3,4,3,2,2,7,2,6,3,5,7,5,4]\n",
    "customer = set(customer)\n",
    "customer.update(\"a\") # 집합에 추가하기"
   ]
  },
  {
   "cell_type": "code",
   "execution_count": 1,
   "id": "5e07bdc4",
   "metadata": {},
   "outputs": [
    {
     "data": {
      "text/plain": [
       "1"
      ]
     },
     "execution_count": 1,
     "metadata": {},
     "output_type": "execute_result"
    }
   ],
   "source": [
    "#딕셔너리 변수 key:value\n",
    "\n",
    "dic = {\"first\":1,\"second\":2} # 이름은 숫자 문자 다됨 반드시 지정해야함 순서중요X 키가 있으니까\n",
    "# dic[0] 이러면 안나옴\n",
    "dic[\"first\"]"
   ]
  },
  {
   "cell_type": "markdown",
   "id": "1bb1f7ad",
   "metadata": {},
   "source": [
    "## WEEK03"
   ]
  },
  {
   "cell_type": "code",
   "execution_count": 4,
   "id": "2972c42e",
   "metadata": {},
   "outputs": [
    {
     "ename": "TypeError",
     "evalue": "'>' not supported between instances of 'int' and 'str'",
     "output_type": "error",
     "traceback": [
      "\u001b[1;31m---------------------------------------------------------------------------\u001b[0m",
      "\u001b[1;31mTypeError\u001b[0m                                 Traceback (most recent call last)",
      "Cell \u001b[1;32mIn[4], line 2\u001b[0m\n\u001b[0;32m      1\u001b[0m \u001b[38;5;241m4\u001b[39m \u001b[38;5;241m==\u001b[39m \u001b[38;5;124m\"\u001b[39m\u001b[38;5;124m4\u001b[39m\u001b[38;5;124m\"\u001b[39m \u001b[38;5;66;03m#False 가나옴\u001b[39;00m\n\u001b[1;32m----> 2\u001b[0m \u001b[38;5;241m4\u001b[39m \u001b[38;5;241m>\u001b[39m \u001b[38;5;124m\"\u001b[39m\u001b[38;5;124m4\u001b[39m\u001b[38;5;124m\"\u001b[39m \u001b[38;5;66;03m#TypeError가 나옴\u001b[39;00m\n\u001b[0;32m      4\u001b[0m \u001b[38;5;124m\"\u001b[39m\u001b[38;5;124mA\u001b[39m\u001b[38;5;124m\"\u001b[39m \u001b[38;5;241m<\u001b[39m \u001b[38;5;124m\"\u001b[39m\u001b[38;5;124mB\u001b[39m\u001b[38;5;124m\"\u001b[39m\n",
      "\u001b[1;31mTypeError\u001b[0m: '>' not supported between instances of 'int' and 'str'"
     ]
    }
   ],
   "source": [
    "4 == \"4\" #False 가나옴\n",
    "4 > \"4\" #TypeError가 나옴\n",
    "\n",
    "\"A\" < \"B\" #나오긴하지만 ASCII코드여서 의미 X\n"
   ]
  },
  {
   "cell_type": "code",
   "execution_count": 5,
   "id": "41291ece",
   "metadata": {},
   "outputs": [],
   "source": [
    "my_number = 4\n",
    "my_numbers = [2, 4, 6, 8, 10]\n",
    "my_char = \"이한솔\"\n",
    "my_chars = [\"시나모롤\", \"이한솔\", \"포챠코\", \"쿠로미\", \"폼폼푸린\", \"한교동\"]"
   ]
  },
  {
   "cell_type": "code",
   "execution_count": 7,
   "id": "54c495ea",
   "metadata": {},
   "outputs": [
    {
     "name": "stdout",
     "output_type": "stream",
     "text": [
      "첫번째 예제:  True\n",
      "두번째 예제:  False\n",
      "세번째 예제:  True\n",
      "네번째 예제:  True\n",
      "다섯번째 예제:  True\n",
      "여섯번째 예제:  False\n",
      "일곱번째 예제:  True\n",
      "여덟번째 예제:  True\n",
      "아홉번째 예제:  False\n"
     ]
    }
   ],
   "source": [
    "print(\"첫번째 예제: \", my_number == my_numbers[1])\n",
    "print(\"두번째 예제: \", my_number == my_numbers[:2])\n",
    "#my_numbers[:1]*2는 4가아님 리스트로 반환되기 때문에\n",
    "print(\"세번째 예제: \", my_number < my_numbers[-1])\n",
    "print(\"네번째 예제: \", my_number != my_numbers)\n",
    "print(\"다섯번째 예제: \", my_char >= my_chars[1])\n",
    "# print(\"다섯번째 예제: \", my_char >= my_chars[2]) 이러면 적합하지 않음\n",
    "print(\"여섯번째 예제: \", my_char >= my_char[1])\n",
    "print(\"일곱번째 예제: \", my_char[1] == my_chars[-1][0])\n",
    "print(\"여덟번째 예제: \", my_char[-1][-1] < my_char[0]) #오류는 안나지만 합당X\n",
    "print(\"아홉번째 예제: \", my_chars[3] != my_chars[-3])\n"
   ]
  },
  {
   "cell_type": "code",
   "execution_count": 8,
   "id": "7f8662ba",
   "metadata": {},
   "outputs": [
    {
     "ename": "SyntaxError",
     "evalue": "incomplete input (4243304777.py, line 4)",
     "output_type": "error",
     "traceback": [
      "\u001b[1;36m  Cell \u001b[1;32mIn[8], line 4\u001b[1;36m\u001b[0m\n\u001b[1;33m    \u001b[0m\n\u001b[1;37m    ^\u001b[0m\n\u001b[1;31mSyntaxError\u001b[0m\u001b[1;31m:\u001b[0m incomplete input\n"
     ]
    }
   ],
   "source": [
    "print(\"권장되지 않는 자료형의 비교 (튜플): \", (5, 4) > (4, 9)) \n",
    "print(\"권장되지 않는 자료형의 비교 (리스트): \", [5, 4] > [4, 9000000000000000000]\n",
    "      # 튜플, 리스트는 맨앞자리만 비교함 문자열이 달라지면 에러뜸\n",
    "      \n"
   ]
  },
  {
   "cell_type": "code",
   "execution_count": 11,
   "id": "e04736d6",
   "metadata": {},
   "outputs": [
    {
     "data": {
      "text/plain": [
       "True"
      ]
     },
     "execution_count": 11,
     "metadata": {},
     "output_type": "execute_result"
    }
   ],
   "source": [
    "5 in [1,3,5,7,9]\n",
    "# 5 == 1 -> 5 == 3 -> 5 == 5 True 끝\n",
    "\n"
   ]
  },
  {
   "cell_type": "code",
   "execution_count": 17,
   "id": "12c0178e",
   "metadata": {},
   "outputs": [
    {
     "data": {
      "text/plain": [
       "True"
      ]
     },
     "execution_count": 17,
     "metadata": {},
     "output_type": "execute_result"
    }
   ],
   "source": [
    "\"화창한\" in \"그날은 끝없이 화창한 날이었다.\" # 문자열을 이렇게 비교하면 하나하나 순서가 아니라 그 문자열이 있는지 연속적으로 찾음\n",
    "\n"
   ]
  },
  {
   "cell_type": "code",
   "execution_count": 20,
   "id": "85a2ce40",
   "metadata": {},
   "outputs": [],
   "source": [
    "#if문 에서 조건문 아래 빈 공간을 indentation (들여쓰기)라고 함. 즉, 종속되어있다는 의미"
   ]
  },
  {
   "cell_type": "code",
   "execution_count": 29,
   "id": "0e9e5e76",
   "metadata": {},
   "outputs": [
    {
     "name": "stdout",
     "output_type": "stream",
     "text": [
      "비밀번호가 일치합니다!\n",
      "프로그램을 종료합니다.\n"
     ]
    }
   ],
   "source": [
    "my_password = \"1234\" # 저장된 비밀번호입니다.\n",
    "password_input = \"1234\" # 입력된 비밀번호라고 가정합니다.\n",
    "# if구문\n",
    "if password_input == my_password: #조건식1 여기서 건너뛰는 것(if가 틀려서 else로 넘어가는 것)을 flow contral이라고 함.\n",
    "       print(\"비밀번호가 일치합니다!\") #코드블럭 1\n",
    "else: #조건식1이 False일 경우\n",
    "        print(\"비밀번호가 틀렸습니다.\") #코드블럭 3\n",
    "# 코드블럭 4\n",
    "print(\"프로그램을 종료합니다.\")"
   ]
  },
  {
   "cell_type": "markdown",
   "id": "652a6f2b",
   "metadata": {},
   "source": [
    "## 반복문"
   ]
  },
  {
   "cell_type": "code",
   "execution_count": 4,
   "id": "ad7e58e9",
   "metadata": {},
   "outputs": [
    {
     "name": "stdout",
     "output_type": "stream",
     "text": [
      "[오늘]의 품사는 \"명사\"입니다\n",
      "[즐겁다]의 품사는 \"형용사\"입니다\n",
      "[집]의 품사는 \"명사\"입니다\n",
      "[가다]의 품사는 \"동사\"입니다\n"
     ]
    }
   ],
   "source": [
    "# print() - 공백으로 나옴\n",
    "# 반복문의 리스트의 집합은 동일한 자료형만 있어야함 다르면 에러뜸\n",
    "\n",
    "word_sets = [(\"오늘\", \"명사\"),\n",
    "(\"즐겁다\", \"형용사\"),\n",
    "(\"집\", \"명사\"),\n",
    "(\"가다\", \"동사\")]\n",
    "\n",
    "for (word, pos) in word_sets:\n",
    "    print(\"[\" + word + \"]의 품사는 \\\"\" + pos + \"\\\"입니다\")\n",
    "# 여기서 (word, pos)로 나누어 많이 사용 [0]이러면 잘 이해가 안되니까\n",
    "\n"
   ]
  },
  {
   "cell_type": "code",
   "execution_count": 10,
   "id": "4a1b34d9",
   "metadata": {},
   "outputs": [
    {
     "name": "stdout",
     "output_type": "stream",
     "text": [
      "신라오 캐릭터즈 대모험\n",
      "이비즈 캐릭터즈 대모험\n"
     ]
    }
   ],
   "source": [
    "my_books = [\n",
    "    {\"title\": \"신라오 캐릭터즈 대모험\",\"issue\": \"2000-02-03\", \"author\": \"박민재\"},\n",
    "    {\"title\": \"카카오\",\"issue\": \"2010-04-03\", \"author\": \"김범수\"},\n",
    "    {\"title\": \"스카너 캐릭터즈 대모험\",\"issue\": \"2005-07-12\", \"author\": \"로렌\"},\n",
    "    {\"title\": \"이비즈 캐릭터즈 대모험\",\"issue\": \"2023-09-12\", \"author\": \"박민재\"},\n",
    "]\n",
    "\n",
    "for book in my_books:\n",
    "    if book[\"author\"] == \"박민재\":\n",
    "        print( book[\"title\"])"
   ]
  },
  {
   "cell_type": "code",
   "execution_count": 14,
   "id": "0b682e2f",
   "metadata": {},
   "outputs": [
    {
     "data": {
      "text/plain": [
       "[0, 1, 2, 3, 4, 5, 6, 7, 8, 9]"
      ]
     },
     "execution_count": 14,
     "metadata": {},
     "output_type": "execute_result"
    }
   ],
   "source": [
    "range(2, 10, 2) # 이케하면 그냥 나옴, 특이함 for문을 활용해야 값을 줌\n",
    "\n",
    "list(range(10)) # 이렇게 하면 보여줌 10 제외\n",
    "\n",
    "\n",
    "\n"
   ]
  },
  {
   "cell_type": "code",
   "execution_count": 16,
   "id": "5b40aaae",
   "metadata": {},
   "outputs": [
    {
     "name": "stdout",
     "output_type": "stream",
     "text": [
      "499500\n"
     ]
    }
   ],
   "source": [
    "result = 0 # 비어있는 값 선언 (초기화)\n",
    "for i in range(1000):\n",
    "    result = result + i # 매 반복 result가 1씩 증가\n",
    "    \n",
    "print(result)"
   ]
  },
  {
   "cell_type": "code",
   "execution_count": 29,
   "id": "a44c2770",
   "metadata": {},
   "outputs": [
    {
     "name": "stdout",
     "output_type": "stream",
     "text": [
      "3 번째  박해수 손님 ㅎㅇ\n",
      "6 번째  장첸 손님 ㅎㅇ\n"
     ]
    }
   ],
   "source": [
    "vips = ['하정우', '황정민', '박해수', '조우진', '유연석', '장첸']\n",
    "list(enumerate(vips)) # 튜플로 나옴\n",
    "# 인덱스번호가 추가됨\n",
    "\n",
    "#for문에 활용가능 \n",
    "for idx, vip in enumerate(vips) :\n",
    "    if (idx+1) % 3 == 0: #3의 배수만\n",
    "        print(idx+1, \"번째 \", vip, \"손님 ㅎㅇ\")\n",
    "\n"
   ]
  },
  {
   "cell_type": "markdown",
   "id": "fe42b287",
   "metadata": {},
   "source": [
    "# 03flow"
   ]
  },
  {
   "cell_type": "code",
   "execution_count": 2,
   "id": "40cbe142",
   "metadata": {},
   "outputs": [],
   "source": [
    "#print(parameter1, parameter2, ..., sep=' ', end='\\n', file=sys.stdout)\n",
    "# \\n은 이스케이스함수 줄바꿈\n",
    "\n"
   ]
  },
  {
   "cell_type": "code",
   "execution_count": 43,
   "id": "39f14732",
   "metadata": {},
   "outputs": [
    {
     "name": "stdout",
     "output_type": "stream",
     "text": [
      "1단: 1 2 3 4 5 6 7 8 9\n",
      "2단: 2 4 6 8 10 12 14 16 18\n",
      "3단: 3 6 9 12 15 18 21 24 27\n",
      "4단: 4 8 12 16 20 24 28 32 36\n",
      "5단: 5 10 15 20 25 30 35 40 45\n",
      "6단: 6 12 18 24 30 36 42 48 54\n",
      "7단: 7 14 21 28 35 42 49 56 63\n",
      "8단: 8 16 24 32 40 48 56 64 72\n",
      "9단: 9 18 27 36 45 54 63 72 81\n"
     ]
    }
   ],
   "source": [
    "# i = n단\n",
    "for i in range(1, 10):\n",
    "    print(i, \"단: \", sep='', end='')\n",
    "    # 결과\n",
    "    for j in range(1,10):\n",
    "        if j < 9 :\n",
    "            print(i*j, end=' ')\n",
    "    print(i*j)"
   ]
  },
  {
   "cell_type": "code",
   "execution_count": 2,
   "id": "77dcfb77",
   "metadata": {},
   "outputs": [
    {
     "data": {
      "text/plain": [
       "True"
      ]
     },
     "execution_count": 2,
     "metadata": {},
     "output_type": "execute_result"
    }
   ],
   "source": [
    "\"5656\".isdigit()\n"
   ]
  },
  {
   "cell_type": "code",
   "execution_count": 4,
   "id": "80abcc16",
   "metadata": {},
   "outputs": [
    {
     "data": {
      "text/plain": [
       "False"
      ]
     },
     "execution_count": 4,
     "metadata": {},
     "output_type": "execute_result"
    }
   ],
   "source": [
    "isinstance(\"4545\",int)"
   ]
  },
  {
   "cell_type": "code",
   "execution_count": 12,
   "id": "b4a221e6",
   "metadata": {},
   "outputs": [
    {
     "name": "stdout",
     "output_type": "stream",
     "text": [
      "더하기: 11\n"
     ]
    }
   ],
   "source": [
    "import module_samples.module_samples_01\n",
    "\n",
    "print(\"더하기: {}\".format( module_samples.module_samples_01.plus(5,6)))\n"
   ]
  }
 ],
 "metadata": {
  "kernelspec": {
   "display_name": "Python 3 (ipykernel)",
   "language": "python",
   "name": "python3"
  },
  "language_info": {
   "codemirror_mode": {
    "name": "ipython",
    "version": 3
   },
   "file_extension": ".py",
   "mimetype": "text/x-python",
   "name": "python",
   "nbconvert_exporter": "python",
   "pygments_lexer": "ipython3",
   "version": "3.11.4"
  }
 },
 "nbformat": 4,
 "nbformat_minor": 5
}
