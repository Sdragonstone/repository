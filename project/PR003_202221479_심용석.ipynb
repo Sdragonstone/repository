{
 "cells": [
  {
   "cell_type": "markdown",
   "id": "c2cba01b",
   "metadata": {},
   "source": [
    "## 문제1"
   ]
  },
  {
   "cell_type": "code",
   "execution_count": 2,
   "id": "c6e56b04",
   "metadata": {},
   "outputs": [],
   "source": [
    "urls = ['http://challengeURL.kr/1',\n",
    " 'http://challengeURL.kr/4',\n",
    " 'http://challengeURL.kr/7',\n",
    " 'http://challengeURL.kr/11',\n",
    " 'http://challengeURL.kr/24',\n",
    " 'http://challengeURL.kr/32',\n",
    " 'http://challengeURL.kr/42',\n",
    " 'http://challengeURL.kr/61',\n",
    " 'http://challengeURL.kr/80',\n",
    " 'http://challengeURL.kr/99',\n",
    " 'http://challengeURL.kr/119',\n",
    " 'http://challengeURL.kr/123',\n",
    " 'http://challengeURL.kr/168',\n",
    " 'http://challengeURL.kr/197',\n",
    " 'http://challengeURL.kr/210',\n",
    " 'http://challengeURL.kr/255',\n",
    " 'http://challengeURL.kr/289',\n",
    " 'http://challengeURL.kr/324',\n",
    " 'http://challengeURL.kr/359',\n",
    " 'http://challengeURL.kr/400',\n",
    " 'http://challengeURL.kr/441',\n",
    " 'http://challengeURL.kr/484',\n",
    " 'http://challengeURL.kr/521',\n",
    " 'http://challengeURL.kr/543',\n",
    " 'http://challengeURL.kr/625',\n",
    " 'http://challengeURL.kr/676',\n",
    " 'http://challengeURL.kr/728',\n",
    " 'http://challengeURL.kr/784',\n",
    " 'http://challengeURL.kr/842',\n",
    " 'http://challengeURL.kr/901',\n",
    " 'http://challengeURL.kr/969',\n",
    " 'http://challengeURL.kr/1001',\n",
    " 'http://challengeURL.kr/1089',\n",
    " 'http://challengeURL.kr/1156',\n",
    " 'http://challengeURL.kr/1225',\n",
    " 'http://challengeURL.kr/1246',\n",
    " 'http://challengeURL.kr/1369',\n",
    " 'http://challengeURL.kr/1444',\n",
    " 'http://challengeURL.kr/1521',\n",
    " 'http://challengeURL.kr/1608',\n",
    " 'http://challengeURL.kr/1681',\n",
    " 'http://challengeURL.kr/1764',\n",
    " 'http://challengeURL.kr/1849',\n",
    " 'http://challengeURL.kr/1936',\n",
    " 'http://challengeURL.kr/2025',\n",
    " 'http://challengeURL.kr/2116',\n",
    " 'http://challengeURL.kr/2209',\n",
    " 'http://challengeURL.kr/2304',\n",
    " 'http://challengeURL.kr/2401',\n",
    " 'http://challengeURL.kr/2500']"
   ]
  },
  {
   "cell_type": "code",
   "execution_count": 1,
   "id": "1be9f325",
   "metadata": {
    "scrolled": true
   },
   "outputs": [
    {
     "ename": "NameError",
     "evalue": "name 'urls' is not defined",
     "output_type": "error",
     "traceback": [
      "\u001b[1;31m---------------------------------------------------------------------------\u001b[0m",
      "\u001b[1;31mNameError\u001b[0m                                 Traceback (most recent call last)",
      "Cell \u001b[1;32mIn[1], line 2\u001b[0m\n\u001b[0;32m      1\u001b[0m numbers\u001b[38;5;241m=\u001b[39m []\n\u001b[1;32m----> 2\u001b[0m \u001b[38;5;28;01mfor\u001b[39;00m i \u001b[38;5;129;01min\u001b[39;00m urls:\n\u001b[0;32m      3\u001b[0m     number \u001b[38;5;241m=\u001b[39m i\u001b[38;5;241m.\u001b[39msplit(\u001b[38;5;124m'\u001b[39m\u001b[38;5;124m/\u001b[39m\u001b[38;5;124m'\u001b[39m)[\u001b[38;5;241m-\u001b[39m\u001b[38;5;241m1\u001b[39m]\n\u001b[0;32m      4\u001b[0m     numbers\u001b[38;5;241m.\u001b[39mappend(number)\n",
      "\u001b[1;31mNameError\u001b[0m: name 'urls' is not defined"
     ]
    }
   ],
   "source": [
    "numbers= []\n",
    "for i in urls:\n",
    "    number = i.split('/')[-1]\n",
    "    numbers.append(number)\n",
    "\n",
    "print(numbers)\n"
   ]
  },
  {
   "cell_type": "code",
   "execution_count": 4,
   "id": "8e75bfdb",
   "metadata": {},
   "outputs": [
    {
     "name": "stdout",
     "output_type": "stream",
     "text": [
      "['1', '4', '7', '11', '24', '32', '42', '61', '80', '99', '119', '123', '168', '197', '210', '255', '289', '324', '359', '400', '441', '484', '521', '543', '625', '676', '728', '784', '842', '901', '969', '1001', '1089', '1156', '1225', '1246', '1369', '1444', '1521', '1608', '1681', '1764', '1849', '1936', '2025', '2116', '2209', '2304', '2401', '2500']\n"
     ]
    }
   ],
   "source": [
    "#교수님 답\n",
    "url_num= []\n",
    "for i in urls:\n",
    "    url_len = len(\"http://challengeURL.kr/\")\n",
    "    url_num.append(i[url_len:])\n",
    "\n",
    "print(url_num)\n"
   ]
  },
  {
   "cell_type": "code",
   "execution_count": null,
   "id": "2e9baac8",
   "metadata": {},
   "outputs": [],
   "source": [
    "# 3번째 list compresion으로 풀기\n",
    "\n",
    "# numbers = [url[23:] for url in urls] \n",
    "\n"
   ]
  },
  {
   "cell_type": "markdown",
   "id": "4a074ec4",
   "metadata": {},
   "source": [
    "## 문제2"
   ]
  },
  {
   "cell_type": "code",
   "execution_count": 5,
   "id": "f80fef14",
   "metadata": {},
   "outputs": [
    {
     "name": "stdout",
     "output_type": "stream",
     "text": [
      "['1', '7', '11', '61', '99', '119', '123', '197', '255', '289', '359', '441', '521', '543', '625', '901', '969', '1001', '1089', '1225', '1369', '1521', '1681', '1849', '2025', '2209', '2401']\n"
     ]
    }
   ],
   "source": [
    "# 크롤링할때 짝수번은 광고상품일 경우가 있음 그거 쳐낼때 이렇게 함\n",
    "number_2 = []\n",
    "for i in urls:\n",
    "    i=i.split('/')[-1]\n",
    "    if int(i)%2 == 1:\n",
    "           number_2.append(i)\n",
    "        \n",
    "print(number_2)      "
   ]
  },
  {
   "cell_type": "code",
   "execution_count": 6,
   "id": "24329b1a",
   "metadata": {},
   "outputs": [],
   "source": [
    "# list compretion\n",
    "# url_odds = [url for url in ruls if int(url[23:]) % 2 != 0]"
   ]
  },
  {
   "cell_type": "markdown",
   "id": "7f5fb5ca",
   "metadata": {},
   "source": [
    "## 문제3"
   ]
  },
  {
   "cell_type": "code",
   "execution_count": 47,
   "id": "e2aa956f",
   "metadata": {},
   "outputs": [],
   "source": [
    "lyrics = '''\n",
    "저 거위도 벽을 넘어 하늘을 날을 거라고\n",
    "달팽이도 넓고 거친 바다 끝에 꿈을 둔다고\n",
    "나도 꾸물꾸물 말고 꿈을 찾으래\n",
    "어서 남의 꿈을 빌려 꾸기라도 해\n",
    "\n",
    "내게 강요하지 말아요 이건 내 길이 아닌걸\n",
    "내밀지 말아요 너의 구겨진 꿈을\n",
    "\n",
    "난 차라리 흘러갈래\n",
    "모두 높은 곳을 우러러볼 때\n",
    "난 내 물결을 따라\n",
    "Flow flow along flow along my way\n",
    "\n",
    "난 차라리 꽉 눌러붙을래\n",
    "날 재촉한다면\n",
    "따뜻한 밥 위에 누워 자는\n",
    "계란 fry fry 같이 나른하게\n",
    "\n",
    "고래도 사랑을 찾아 파도를 가를 거라고\n",
    "하다못해 네모도 꿈을 꾸는데\n",
    "아무도 꿈이 없는 자에겐 기회를 주지 않아\n",
    "하긴 무슨 기회가 어울릴지도 모를 거야\n",
    "\n",
    "무시 말아 줘요 하고 싶은 게 없는걸\n",
    "왜 그렇게 봐 난 죄지은 게 아닌데\n",
    "\n",
    "난 차라리 흘러갈래\n",
    "모두 높은 곳을 우러러볼 때\n",
    "난 내 물결을 따라\n",
    "Flow flow along flow along my way\n",
    "\n",
    "난 차라리 꽉 눌러붙을래\n",
    "날 재촉한다면\n",
    "따뜻한 밥 위에 누워 자는\n",
    "계란 fry fry 같이\n",
    "\n",
    "Spread out\n",
    "틀에 갇힌 듯한 똑같은 꿈\n",
    "Spread out out\n",
    "난 이 두꺼운 껍질을 깨고 나와 퍼지고 싶어\n",
    "\n",
    "난 차라리 굴러갈래\n",
    "끝은 안 보여 뒤에선 등 떠미는데\n",
    "난 내 물결을 따라\n",
    "Flow flow along flow along my way\n",
    "\n",
    "난 차라리 꽉 눌러붙을래\n",
    "날 재촉한다면\n",
    "고민 하나 없이 퍼져 있는\n",
    "계란 fry fry 같이 나른하게\n",
    "'''"
   ]
  },
  {
   "cell_type": "markdown",
   "id": "47b79512",
   "metadata": {},
   "source": [
    "## 문제4"
   ]
  },
  {
   "cell_type": "code",
   "execution_count": 48,
   "id": "76bd85d5",
   "metadata": {},
   "outputs": [
    {
     "data": {
      "text/plain": [
       "['',\n",
       " '저 거위도 벽을 넘어 하늘을 날을 거라고',\n",
       " '달팽이도 넓고 거친 바다 끝에 꿈을 둔다고',\n",
       " '나도 꾸물꾸물 말고 꿈을 찾으래',\n",
       " '어서 남의 꿈을 빌려 꾸기라도 해',\n",
       " '',\n",
       " '내게 강요하지 말아요 이건 내 길이 아닌걸',\n",
       " '내밀지 말아요 너의 구겨진 꿈을',\n",
       " '',\n",
       " '난 차라리 흘러갈래',\n",
       " '모두 높은 곳을 우러러볼 때',\n",
       " '난 내 물결을 따라',\n",
       " 'Flow flow along flow along my way',\n",
       " '',\n",
       " '난 차라리 꽉 눌러붙을래',\n",
       " '날 재촉한다면',\n",
       " '따뜻한 밥 위에 누워 자는',\n",
       " '계란 fry fry 같이 나른하게',\n",
       " '',\n",
       " '고래도 사랑을 찾아 파도를 가를 거라고',\n",
       " '하다못해 네모도 꿈을 꾸는데',\n",
       " '아무도 꿈이 없는 자에겐 기회를 주지 않아',\n",
       " '하긴 무슨 기회가 어울릴지도 모를 거야',\n",
       " '',\n",
       " '무시 말아 줘요 하고 싶은 게 없는걸',\n",
       " '왜 그렇게 봐 난 죄지은 게 아닌데',\n",
       " '',\n",
       " '난 차라리 흘러갈래',\n",
       " '모두 높은 곳을 우러러볼 때',\n",
       " '난 내 물결을 따라',\n",
       " 'Flow flow along flow along my way',\n",
       " '',\n",
       " '난 차라리 꽉 눌러붙을래',\n",
       " '날 재촉한다면',\n",
       " '따뜻한 밥 위에 누워 자는',\n",
       " '계란 fry fry 같이',\n",
       " '',\n",
       " 'Spread out',\n",
       " '틀에 갇힌 듯한 똑같은 꿈',\n",
       " 'Spread out out',\n",
       " '난 이 두꺼운 껍질을 깨고 나와 퍼지고 싶어',\n",
       " '',\n",
       " '난 차라리 굴러갈래',\n",
       " '끝은 안 보여 뒤에선 등 떠미는데',\n",
       " '난 내 물결을 따라',\n",
       " 'Flow flow along flow along my way',\n",
       " '',\n",
       " '난 차라리 꽉 눌러붙을래',\n",
       " '날 재촉한다면',\n",
       " '고민 하나 없이 퍼져 있는',\n",
       " '계란 fry fry 같이 나른하게',\n",
       " '']"
      ]
     },
     "execution_count": 48,
     "metadata": {},
     "output_type": "execute_result"
    }
   ],
   "source": [
    "lyrics_2=lyrics.split('\\n')\n",
    "\n",
    "print(lyrics_2)"
   ]
  },
  {
   "cell_type": "code",
   "execution_count": 49,
   "id": "2750116c",
   "metadata": {},
   "outputs": [
    {
     "name": "stdout",
     "output_type": "stream",
     "text": [
      "0\n",
      "22\n",
      "23\n",
      "17\n",
      "18\n",
      "0\n",
      "23\n",
      "17\n",
      "0\n",
      "10\n",
      "15\n",
      "10\n",
      "33\n",
      "0\n",
      "13\n",
      "7\n",
      "14\n",
      "18\n",
      "0\n",
      "21\n",
      "15\n",
      "23\n",
      "21\n",
      "0\n",
      "20\n",
      "19\n",
      "0\n",
      "10\n",
      "15\n",
      "10\n",
      "33\n",
      "0\n",
      "13\n",
      "7\n",
      "14\n",
      "13\n",
      "0\n",
      "10\n",
      "14\n",
      "14\n",
      "24\n",
      "0\n",
      "10\n",
      "18\n",
      "10\n",
      "33\n",
      "0\n",
      "13\n",
      "7\n",
      "14\n",
      "18\n",
      "0\n"
     ]
    }
   ],
   "source": [
    "for i in lyrics_2:\n",
    "    print(len(i))\n",
    "    \n",
    "# list conpretion 만들어보기\n",
    "# print(line for line in lyrics if  len()).."
   ]
  },
  {
   "cell_type": "markdown",
   "id": "e5f9ba3c",
   "metadata": {},
   "source": [
    "## 문제5"
   ]
  },
  {
   "cell_type": "code",
   "execution_count": 152,
   "id": "0742a527",
   "metadata": {},
   "outputs": [
    {
     "name": "stdout",
     "output_type": "stream",
     "text": [
      "[1] 저 거위도 벽을 넘어 하늘을 날을 거라고\n",
      "[2] 달팽이도 넓고 거친 바다 끝에 꿈을 둔다고\n",
      "[3] 나도 꾸물꾸물 말고 꿈을 찾으래\n",
      "[4] 어서 남의 꿈을 빌려 꾸기라도 해\n",
      "[5] 내게 강요하지 말아요 이건 내 길이 아닌걸\n",
      "[6] 내밀지 말아요 너의 구겨진 꿈을\n",
      "[7] 난 차라리 흘러갈래\n",
      "[8] 모두 높은 곳을 우러러볼 때\n",
      "[9] 난 내 물결을 따라\n",
      "[10] Flow flow along flow along my way\n",
      "[11] 난 차라리 꽉 눌러붙을래\n",
      "[12] 날 재촉한다면\n",
      "[13] 따뜻한 밥 위에 누워 자는\n",
      "[14] 계란 fry fry 같이 나른하게\n",
      "[15] 고래도 사랑을 찾아 파도를 가를 거라고\n",
      "[16] 하다못해 네모도 꿈을 꾸는데\n",
      "[17] 아무도 꿈이 없는 자에겐 기회를 주지 않아\n",
      "[18] 하긴 무슨 기회가 어울릴지도 모를 거야\n",
      "[19] 무시 말아 줘요 하고 싶은 게 없는걸\n",
      "[20] 왜 그렇게 봐 난 죄지은 게 아닌데\n",
      "[21] 난 차라리 흘러갈래\n",
      "[22] 모두 높은 곳을 우러러볼 때\n",
      "[23] 난 내 물결을 따라\n",
      "[24] Flow flow along flow along my way\n",
      "[25] 난 차라리 꽉 눌러붙을래\n",
      "[26] 날 재촉한다면\n",
      "[27] 따뜻한 밥 위에 누워 자는\n",
      "[28] 계란 fry fry 같이\n",
      "[29] Spread out\n",
      "[30] 틀에 갇힌 듯한 똑같은 꿈\n",
      "[31] Spread out out\n",
      "[32] 난 이 두꺼운 껍질을 깨고 나와 퍼지고 싶어\n",
      "[33] 난 차라리 굴러갈래\n",
      "[34] 끝은 안 보여 뒤에선 등 떠미는데\n",
      "[35] 난 내 물결을 따라\n",
      "[36] Flow flow along flow along my way\n",
      "[37] 난 차라리 꽉 눌러붙을래\n",
      "[38] 날 재촉한다면\n",
      "[39] 고민 하나 없이 퍼져 있는\n",
      "[40] 계란 fry fry 같이 나른하게\n"
     ]
    }
   ],
   "source": [
    "for i, val in enumerate(lyrics_2, start=1):\n",
    "    print(\"[{}] {}\".format(i, val))\n",
    "\n",
    "    #따로 빈공간 없이 새로 만듬\n",
    "#for line in lyrics_line:\n",
    "#    if line != \"\":    -- len(line)=0인지\n",
    "#        lyrics_2.append(line)\n",
    "    \n",
    "    \n",
    "    # for i, val in enumerate(lyrics_2):\n",
    "#        if val != \"\":\n",
    " #       print(\"[{}] {}\".format(i, val))"
   ]
  }
 ],
 "metadata": {
  "kernelspec": {
   "display_name": "Python 3 (ipykernel)",
   "language": "python",
   "name": "python3"
  },
  "language_info": {
   "codemirror_mode": {
    "name": "ipython",
    "version": 3
   },
   "file_extension": ".py",
   "mimetype": "text/x-python",
   "name": "python",
   "nbconvert_exporter": "python",
   "pygments_lexer": "ipython3",
   "version": "3.11.4"
  }
 },
 "nbformat": 4,
 "nbformat_minor": 5
}
